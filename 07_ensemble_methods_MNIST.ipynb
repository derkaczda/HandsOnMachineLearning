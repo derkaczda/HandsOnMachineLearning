{
 "cells": [
  {
   "cell_type": "markdown",
   "metadata": {},
   "source": [
    "# Ensemble methods\n",
    "\n",
    "This notebook is based on the topics in chapter 7. <br>\n",
    "We will answer the exercises 8 and 9 for the MNIST dataset <br>\n",
    "\n",
    "## General preparations\n",
    "### 1.1 Data loading"
   ]
  },
  {
   "cell_type": "code",
   "execution_count": 1,
   "metadata": {},
   "outputs": [],
   "source": [
    "from sklearn.datasets import fetch_openml\n",
    "mnist = fetch_openml('mnist_784', version=1)"
   ]
  },
  {
   "cell_type": "markdown",
   "metadata": {},
   "source": [
    "### 1.2 Test/Train split"
   ]
  },
  {
   "cell_type": "code",
   "execution_count": 2,
   "metadata": {},
   "outputs": [],
   "source": [
    "import numpy as np\n",
    "from sklearn.model_selection import train_test_split\n",
    "X_train, y_train = mnist['data'][:60000], mnist['target'][:60000].astype(np.uint8)\n",
    "X_test, y_test = mnist['data'][60000:], mnist['target'][60000:].astype(np.uint8)\n",
    "X_train, X_val, y_train, y_val = train_test_split(X_train, y_train, test_size=0.2, random_state=42)"
   ]
  },
  {
   "cell_type": "code",
   "execution_count": 3,
   "metadata": {},
   "outputs": [
    {
     "data": {
      "text/plain": [
       "((48000, 784), (48000,))"
      ]
     },
     "execution_count": 3,
     "metadata": {},
     "output_type": "execute_result"
    }
   ],
   "source": [
    "X_train.shape, y_train.shape"
   ]
  },
  {
   "cell_type": "code",
   "execution_count": 4,
   "metadata": {},
   "outputs": [
    {
     "data": {
      "text/plain": [
       "((12000, 784), (12000,))"
      ]
     },
     "execution_count": 4,
     "metadata": {},
     "output_type": "execute_result"
    }
   ],
   "source": [
    "X_val.shape, y_val.shape"
   ]
  },
  {
   "cell_type": "markdown",
   "metadata": {},
   "source": [
    "### 1.3 Preprocessing pipeline"
   ]
  },
  {
   "cell_type": "code",
   "execution_count": 5,
   "metadata": {},
   "outputs": [],
   "source": [
    "from sklearn.pipeline import Pipeline\n",
    "from sklearn.preprocessing import StandardScaler\n",
    "\n",
    "preprocessing_pipeline = Pipeline(\n",
    "    steps=[\n",
    "        ('std_scaler', StandardScaler())\n",
    "    ]\n",
    ")"
   ]
  },
  {
   "cell_type": "markdown",
   "metadata": {},
   "source": [
    "## 2. Exercise 8: Ensemble classification\n",
    "\n",
    "Load the MNIST data and split it into a training set, a validation set, and a test set. Then train various classifiers, such as a Random Forest classifier, an Extra-Trees classifier, and an SVM classifier. Next, try to compbine them into an ensemble that outperforms each individual classifier on the validation set, using soft or hard voting. Once you have found one, try it on the test set. How much bettere does it perform compared to the individual classifiers? <br><br>\n",
    "\n",
    "\n",
    "### 2.1 SVM"
   ]
  },
  {
   "cell_type": "code",
   "execution_count": 6,
   "metadata": {},
   "outputs": [
    {
     "data": {
      "text/plain": [
       "Pipeline(steps=[('preprocessing',\n",
       "                 Pipeline(steps=[('std_scaler', StandardScaler())])),\n",
       "                ('classifier', SVC(probability=True))])"
      ]
     },
     "execution_count": 6,
     "metadata": {},
     "output_type": "execute_result"
    }
   ],
   "source": [
    "from sklearn.svm import SVC\n",
    "\n",
    "svc_classifier = SVC(kernel='rbf', probability=True)\n",
    "\n",
    "svc_pipeline = Pipeline(\n",
    "    steps= [\n",
    "        ('preprocessing', preprocessing_pipeline),\n",
    "        ('classifier', svc_classifier)\n",
    "    ]\n",
    ")\n",
    "\n",
    "svc_pipeline.fit(X_train, y_train)"
   ]
  },
  {
   "cell_type": "code",
   "execution_count": 7,
   "metadata": {},
   "outputs": [
    {
     "name": "stdout",
     "output_type": "stream",
     "text": [
      "SVC score on validation set is 0.9635\n"
     ]
    }
   ],
   "source": [
    "score = svc_pipeline.score(X_val, y_val)\n",
    "print(f\"SVC score on validation set is {score}\")"
   ]
  },
  {
   "cell_type": "code",
   "execution_count": 11,
   "metadata": {},
   "outputs": [
    {
     "data": {
      "text/plain": [
       "['models/07_svc_base_mnist.pkl']"
      ]
     },
     "execution_count": 11,
     "metadata": {},
     "output_type": "execute_result"
    }
   ],
   "source": [
    "import joblib\n",
    "import os\n",
    "\n",
    "os.makedirs(\"models/\", exist_ok=True)\n",
    "\n",
    "joblib.dump(svc_classifier, 'models/07_svc_base_mnist.pkl')"
   ]
  },
  {
   "cell_type": "code",
   "execution_count": 12,
   "metadata": {},
   "outputs": [
    {
     "data": {
      "text/plain": [
       "GridSearchCV(cv=3,\n",
       "             estimator=Pipeline(steps=[('preprocessing',\n",
       "                                        Pipeline(steps=[('std_scaler',\n",
       "                                                         StandardScaler())])),\n",
       "                                       ('classifier', SVC(probability=True))]),\n",
       "             n_jobs=-1,\n",
       "             param_grid={'classifier__C': [1, 0.1, 1.5],\n",
       "                         'classifier__kernel': ['rbf', 'sigmoid'],\n",
       "                         'classifier__probability': [True]},\n",
       "             return_train_score=True)"
      ]
     },
     "execution_count": 12,
     "metadata": {},
     "output_type": "execute_result"
    }
   ],
   "source": [
    "from sklearn.model_selection import GridSearchCV\n",
    "\n",
    "svc_params_grid = {\n",
    "    'classifier__kernel': ['rbf', 'sigmoid'],\n",
    "    'classifier__C':[1, 0.1, 1.5],\n",
    "    'classifier__probability': [True]\n",
    "}\n",
    "\n",
    "svc_grid_search = GridSearchCV(svc_pipeline, svc_params_grid, cv=3, return_train_score=True, n_jobs=-1)\n",
    "svc_grid_search.fit(X_train, y_train)"
   ]
  },
  {
   "cell_type": "code",
   "execution_count": 13,
   "metadata": {},
   "outputs": [
    {
     "data": {
      "text/plain": [
       "['models/07_svc_search_mnist.pkl']"
      ]
     },
     "execution_count": 13,
     "metadata": {},
     "output_type": "execute_result"
    }
   ],
   "source": [
    "import joblib\n",
    "\n",
    "joblib.dump(svc_grid_search.best_estimator_, 'models/07_svc_search_mnist.pkl')"
   ]
  },
  {
   "cell_type": "code",
   "execution_count": 14,
   "metadata": {},
   "outputs": [
    {
     "name": "stdout",
     "output_type": "stream",
     "text": [
      "SVC score on validation set is 0.9659166666666666\n"
     ]
    }
   ],
   "source": [
    "score = svc_grid_search.best_estimator_.score(X_val, y_val)\n",
    "print(f\"SVC score on validation set is {score}\")"
   ]
  },
  {
   "cell_type": "code",
   "execution_count": 15,
   "metadata": {},
   "outputs": [
    {
     "data": {
      "text/plain": [
       "{'classifier__C': 1.5,\n",
       " 'classifier__kernel': 'rbf',\n",
       " 'classifier__probability': True}"
      ]
     },
     "execution_count": 15,
     "metadata": {},
     "output_type": "execute_result"
    }
   ],
   "source": [
    "svc_grid_search.best_params_"
   ]
  },
  {
   "cell_type": "code",
   "execution_count": 17,
   "metadata": {},
   "outputs": [
    {
     "data": {
      "text/plain": [
       "Pipeline(steps=[('preprocessing',\n",
       "                 Pipeline(steps=[('std_scaler', StandardScaler())])),\n",
       "                ('classifier', SVC(C=1.5, probability=True))])"
      ]
     },
     "execution_count": 17,
     "metadata": {},
     "output_type": "execute_result"
    }
   ],
   "source": [
    "svc_classifier = SVC(kernel='rbf', C=1.5, probability=True)\n",
    "\n",
    "svc_pipeline = Pipeline(\n",
    "    steps= [\n",
    "        ('preprocessing', preprocessing_pipeline),\n",
    "        ('classifier', svc_classifier)\n",
    "    ]\n",
    ")\n",
    "\n",
    "svc_pipeline.fit(X_train, y_train)"
   ]
  },
  {
   "cell_type": "code",
   "execution_count": 18,
   "metadata": {},
   "outputs": [
    {
     "name": "stdout",
     "output_type": "stream",
     "text": [
      "SVC score on validation set is 0.9659166666666666\n"
     ]
    }
   ],
   "source": [
    "score = svc_pipeline.score(X_val, y_val)\n",
    "print(f\"SVC score on validation set is {score}\")"
   ]
  },
  {
   "cell_type": "code",
   "execution_count": null,
   "metadata": {},
   "outputs": [],
   "source": [
    "import joblib\n",
    "\n",
    "joblib.dump(svc_grid_search.best_estimator_, 'models/07_svc_after_search_mnist.pkl')"
   ]
  },
  {
   "cell_type": "markdown",
   "metadata": {},
   "source": [
    "### 2.2 Random Forest"
   ]
  },
  {
   "cell_type": "code",
   "execution_count": 6,
   "metadata": {},
   "outputs": [
    {
     "data": {
      "text/plain": [
       "Pipeline(steps=[('preprocessing',\n",
       "                 Pipeline(steps=[('std_scaler', StandardScaler())])),\n",
       "                ('classifier',\n",
       "                 RandomForestClassifier(n_jobs=-1, random_state=42))])"
      ]
     },
     "execution_count": 6,
     "metadata": {},
     "output_type": "execute_result"
    }
   ],
   "source": [
    "from sklearn.ensemble import RandomForestClassifier\n",
    "\n",
    "forest_classifier = RandomForestClassifier(random_state=42, n_jobs=-1)\n",
    "\n",
    "forest_pipeline = Pipeline(\n",
    "    steps= [\n",
    "        ('preprocessing', preprocessing_pipeline),\n",
    "        ('classifier', forest_classifier)\n",
    "    ]\n",
    ")\n",
    "\n",
    "forest_pipeline.fit(X_train, y_train)"
   ]
  },
  {
   "cell_type": "code",
   "execution_count": 7,
   "metadata": {
    "scrolled": true
   },
   "outputs": [
    {
     "name": "stdout",
     "output_type": "stream",
     "text": [
      "Random forest score on validation set is 0.9694166666666667\n"
     ]
    }
   ],
   "source": [
    "score = forest_pipeline.score(X_val, y_val)\n",
    "print(f\"Random forest score on validation set is {score}\")"
   ]
  },
  {
   "cell_type": "code",
   "execution_count": 9,
   "metadata": {},
   "outputs": [
    {
     "data": {
      "text/plain": [
       "['models/07_forest_base_mnist.pkl']"
      ]
     },
     "execution_count": 9,
     "metadata": {},
     "output_type": "execute_result"
    }
   ],
   "source": [
    "import joblib\n",
    "joblib.dump(forest_classifier, 'models/07_forest_base_mnist.pkl')"
   ]
  },
  {
   "cell_type": "code",
   "execution_count": 8,
   "metadata": {},
   "outputs": [
    {
     "data": {
      "text/plain": [
       "['models/07_forest_search_mnist.pkl']"
      ]
     },
     "execution_count": 8,
     "metadata": {},
     "output_type": "execute_result"
    }
   ],
   "source": [
    "from sklearn.model_selection import GridSearchCV\n",
    "import joblib\n",
    "\n",
    "forest_params_grid = {\n",
    "    'classifier__n_estimators': [500, 600, 1000],\n",
    "    'classifier__max_depth':[20, 30, 40],\n",
    "    'classifier__min_samples_leaf':[2, 5],\n",
    "    'classifier__n_jobs':[-1],\n",
    "    'classifier__random_state':[42]\n",
    "}\n",
    "\n",
    "forest_grid_search = GridSearchCV(forest_pipeline, forest_params_grid, cv=3, return_train_score=True, n_jobs=-1)\n",
    "forest_grid_search.fit(X_train, y_train)\n",
    "joblib.dump(forest_grid_search.best_estimator_, 'models/07_forest_search_mnist.pkl')"
   ]
  },
  {
   "cell_type": "code",
   "execution_count": 9,
   "metadata": {},
   "outputs": [
    {
     "name": "stdout",
     "output_type": "stream",
     "text": [
      "Forest score score on validation set is 0.9681666666666666\n"
     ]
    }
   ],
   "source": [
    "score = forest_grid_search.best_estimator_.score(X_val, y_val)\n",
    "print(f\"Forest score score on validation set is {score}\")"
   ]
  },
  {
   "cell_type": "code",
   "execution_count": 10,
   "metadata": {},
   "outputs": [
    {
     "data": {
      "text/plain": [
       "{'classifier__max_depth': 40,\n",
       " 'classifier__min_samples_leaf': 2,\n",
       " 'classifier__n_estimators': 1000,\n",
       " 'classifier__n_jobs': -1,\n",
       " 'classifier__random_state': 42}"
      ]
     },
     "execution_count": 10,
     "metadata": {},
     "output_type": "execute_result"
    }
   ],
   "source": [
    "forest_grid_search.best_params_"
   ]
  },
  {
   "cell_type": "code",
   "execution_count": 11,
   "metadata": {},
   "outputs": [
    {
     "data": {
      "text/plain": [
       "Pipeline(steps=[('preprocessing',\n",
       "                 Pipeline(steps=[('std_scaler', StandardScaler())])),\n",
       "                ('classifier',\n",
       "                 RandomForestClassifier(max_depth=40, min_samples_leaf=2,\n",
       "                                        n_estimators=1000, n_jobs=-1,\n",
       "                                        random_state=42))])"
      ]
     },
     "execution_count": 11,
     "metadata": {},
     "output_type": "execute_result"
    }
   ],
   "source": [
    "from sklearn.ensemble import RandomForestClassifier\n",
    "\n",
    "forest_classifier = RandomForestClassifier(n_estimators=1000, min_samples_leaf=2,\n",
    "                                           max_depth=40, random_state=42, n_jobs=-1)\n",
    "\n",
    "forest_pipeline = Pipeline(\n",
    "    steps= [\n",
    "        ('preprocessing', preprocessing_pipeline),\n",
    "        ('classifier', forest_classifier)\n",
    "    ]\n",
    ")\n",
    "\n",
    "forest_pipeline.fit(X_train, y_train)"
   ]
  },
  {
   "cell_type": "code",
   "execution_count": 12,
   "metadata": {},
   "outputs": [
    {
     "name": "stdout",
     "output_type": "stream",
     "text": [
      "Random forest score on validation set is 0.9681666666666666\n"
     ]
    }
   ],
   "source": [
    "score = forest_pipeline.score(X_val, y_val)\n",
    "print(f\"Random forest score on validation set is {score}\")"
   ]
  },
  {
   "cell_type": "code",
   "execution_count": 13,
   "metadata": {
    "scrolled": true
   },
   "outputs": [
    {
     "data": {
      "text/plain": [
       "['models/07_forest_after_search_mnist.pkl']"
      ]
     },
     "execution_count": 13,
     "metadata": {},
     "output_type": "execute_result"
    }
   ],
   "source": [
    "import joblib\n",
    "joblib.dump(forest_classifier, 'models/07_forest_after_search_mnist.pkl')"
   ]
  },
  {
   "cell_type": "markdown",
   "metadata": {},
   "source": [
    "### 2.3 Extremely random forests"
   ]
  },
  {
   "cell_type": "code",
   "execution_count": 7,
   "metadata": {},
   "outputs": [
    {
     "data": {
      "text/plain": [
       "['models/07_extra_forest_base_mnist.pkl']"
      ]
     },
     "execution_count": 7,
     "metadata": {},
     "output_type": "execute_result"
    }
   ],
   "source": [
    "from sklearn.ensemble import ExtraTreesClassifier\n",
    "import joblib\n",
    "\n",
    "extra_forest_classifier = ExtraTreesClassifier(random_state=42, n_jobs=-1)\n",
    "\n",
    "extra_forest_pipeline = Pipeline(\n",
    "    steps= [\n",
    "        ('preprocessing', preprocessing_pipeline),\n",
    "        ('classifier', extra_forest_classifier)\n",
    "    ]\n",
    ")\n",
    "\n",
    "extra_forest_pipeline.fit(X_train, y_train)\n",
    "joblib.dump(extra_forest_classifier, 'models/07_extra_forest_base_mnist.pkl')"
   ]
  },
  {
   "cell_type": "code",
   "execution_count": 8,
   "metadata": {},
   "outputs": [
    {
     "name": "stdout",
     "output_type": "stream",
     "text": [
      "Extra trees score on validation set is 0.97225\n"
     ]
    }
   ],
   "source": [
    "score = extra_forest_pipeline.score(X_val, y_val)\n",
    "print(f\"Extra trees score on validation set is {score}\")"
   ]
  },
  {
   "cell_type": "code",
   "execution_count": 9,
   "metadata": {},
   "outputs": [
    {
     "data": {
      "text/plain": [
       "['models/07_extra_forest_search_mnist.pkl']"
      ]
     },
     "execution_count": 9,
     "metadata": {},
     "output_type": "execute_result"
    }
   ],
   "source": [
    "from sklearn.model_selection import GridSearchCV\n",
    "import joblib\n",
    "\n",
    "extra_forest_params_grid = {\n",
    "    'classifier__n_estimators': [500, 600, 1000],\n",
    "    'classifier__max_depth':[20, 30, 40],\n",
    "    'classifier__min_samples_leaf':[2, 5],\n",
    "    'classifier__n_jobs':[-1],\n",
    "    'classifier__random_state':[42]\n",
    "}\n",
    "\n",
    "extra_forest_grid_search = GridSearchCV(extra_forest_pipeline, extra_forest_params_grid, cv=3, return_train_score=True, n_jobs=-1)\n",
    "extra_forest_grid_search.fit(X_train, y_train)\n",
    "joblib.dump(extra_forest_grid_search.best_estimator_, 'models/07_extra_forest_search_mnist.pkl')"
   ]
  },
  {
   "cell_type": "code",
   "execution_count": 10,
   "metadata": {},
   "outputs": [
    {
     "name": "stdout",
     "output_type": "stream",
     "text": [
      "Forest score score on validation set is 0.9701666666666666\n"
     ]
    }
   ],
   "source": [
    "score = extra_forest_grid_search.best_estimator_.score(X_val, y_val)\n",
    "print(f\"Forest score score on validation set is {score}\")"
   ]
  },
  {
   "cell_type": "code",
   "execution_count": 11,
   "metadata": {},
   "outputs": [
    {
     "data": {
      "text/plain": [
       "{'classifier__max_depth': 40,\n",
       " 'classifier__min_samples_leaf': 2,\n",
       " 'classifier__n_estimators': 1000,\n",
       " 'classifier__n_jobs': -1,\n",
       " 'classifier__random_state': 42}"
      ]
     },
     "execution_count": 11,
     "metadata": {},
     "output_type": "execute_result"
    }
   ],
   "source": [
    "extra_forest_grid_search.best_params_"
   ]
  },
  {
   "cell_type": "code",
   "execution_count": 12,
   "metadata": {},
   "outputs": [
    {
     "data": {
      "text/plain": [
       "['models/07_extra_forest_after_search_mnist.pkl']"
      ]
     },
     "execution_count": 12,
     "metadata": {},
     "output_type": "execute_result"
    }
   ],
   "source": [
    "extra_forest_classifier = ExtraTreesClassifier(random_state=42, max_depth=40, \n",
    "                                               min_samples_leaf=2, n_estimators=1000,\n",
    "                                               n_jobs=-1)\n",
    "\n",
    "extra_forest_pipeline = Pipeline(\n",
    "    steps= [\n",
    "        ('preprocessing', preprocessing_pipeline),\n",
    "        ('classifier', extra_forest_classifier)\n",
    "    ]\n",
    ")\n",
    "\n",
    "extra_forest_pipeline.fit(X_train, y_train)\n",
    "joblib.dump(extra_forest_classifier, 'models/07_extra_forest_after_search_mnist.pkl')"
   ]
  },
  {
   "cell_type": "code",
   "execution_count": 13,
   "metadata": {},
   "outputs": [
    {
     "name": "stdout",
     "output_type": "stream",
     "text": [
      "Extra trees score on validation set is 0.9701666666666666\n"
     ]
    }
   ],
   "source": [
    "score = extra_forest_pipeline.score(X_val, y_val)\n",
    "print(f\"Extra trees score on validation set is {score}\")"
   ]
  },
  {
   "cell_type": "markdown",
   "metadata": {},
   "source": [
    "### 2.4 Putting it all together into a ensemble\n",
    "\n",
    "#### 2.4.1 Hard Voting classifier"
   ]
  },
  {
   "cell_type": "code",
   "execution_count": 15,
   "metadata": {},
   "outputs": [],
   "source": [
    "from sklearn.svm import SVC\n",
    "from sklearn.ensemble import RandomForestClassifier, ExtraTreesClassifier\n",
    "\n",
    "svc_model = SVC(kernel='rbf', C=1.5, probability=True)\n",
    "random_forest_model = RandomForestClassifier(n_estimators=1000, min_samples_leaf=2,\n",
    "                                           max_depth=40, random_state=42, n_jobs=-1)\n",
    "extra_trees_model = ExtraTreesClassifier(random_state=42, max_depth=40, \n",
    "                                               min_samples_leaf=2, n_estimators=1000,\n",
    "                                               n_jobs=-1)"
   ]
  },
  {
   "cell_type": "code",
   "execution_count": 21,
   "metadata": {},
   "outputs": [
    {
     "data": {
      "text/plain": [
       "['models/07_ensemble_classifier_mnist.pkl']"
      ]
     },
     "execution_count": 21,
     "metadata": {},
     "output_type": "execute_result"
    }
   ],
   "source": [
    "from sklearn.pipeline import Pipeline \n",
    "from sklearn.ensemble import VotingClassifier\n",
    "import joblib\n",
    "\n",
    "ensemble_classifier = VotingClassifier(\n",
    "    estimators=[('svc',svc_model), ('forest',random_forest_model), ('extra_trees',extra_trees_model)],\n",
    "    voting='hard',\n",
    "    n_jobs=-1\n",
    ")\n",
    "\n",
    "ensemble_pipeline = Pipeline(\n",
    "    steps= [\n",
    "        ('preprocessing', preprocessing_pipeline),\n",
    "        ('classifier', ensemble_classifier)\n",
    "    ]\n",
    ")\n",
    "\n",
    "ensemble_pipeline.fit(X_train, y_train)\n",
    "joblib.dump(ensemble_classifier, 'models/07_ensemble_classifier_mnist.pkl')"
   ]
  },
  {
   "cell_type": "code",
   "execution_count": 22,
   "metadata": {},
   "outputs": [
    {
     "name": "stdout",
     "output_type": "stream",
     "text": [
      "The ensemble scored 0.9708333333333333\n"
     ]
    }
   ],
   "source": [
    "score = ensemble_pipeline.score(X_val, y_val)\n",
    "print(f\"The ensemble scored {score}\")"
   ]
  },
  {
   "cell_type": "markdown",
   "metadata": {},
   "source": [
    "#### 2.4.2 scoring on the test set"
   ]
  },
  {
   "cell_type": "code",
   "execution_count": 25,
   "metadata": {},
   "outputs": [
    {
     "name": "stdout",
     "output_type": "stream",
     "text": [
      "The ensemble scored 0.9712; SVC 0.9663; Forest 0.968; Extra trees 0.9703\n"
     ]
    }
   ],
   "source": [
    "X_test_trans = preprocessing_pipeline.transform(X_test)\n",
    "score_ensemble = ensemble_classifier.score(X_test_trans, y_test)\n",
    "score_svc = ensemble_classifier.named_estimators_['svc'].score(X_test_trans,y_test)\n",
    "score_forest = ensemble_classifier.named_estimators_['forest'].score(X_test_trans, y_test)\n",
    "score_extra = ensemble_classifier.named_estimators_['extra_trees'].score(X_test_trans, y_test)\n",
    "print(f\"The ensemble scored {score_ensemble}; SVC {score_svc}; Forest {score_forest}; Extra trees {score_extra}\")"
   ]
  }
 ],
 "metadata": {
  "kernelspec": {
   "display_name": "Python 3",
   "language": "python",
   "name": "python3"
  },
  "language_info": {
   "codemirror_mode": {
    "name": "ipython",
    "version": 3
   },
   "file_extension": ".py",
   "mimetype": "text/x-python",
   "name": "python",
   "nbconvert_exporter": "python",
   "pygments_lexer": "ipython3",
   "version": "3.8.5"
  }
 },
 "nbformat": 4,
 "nbformat_minor": 4
}
