{
 "cells": [
  {
   "cell_type": "markdown",
   "metadata": {},
   "source": [
    "# Data exploration\n",
    "\n",
    "*This notebook is based on the content of the book \"Hands-On Machine Learning with Scikit-Learn,\n",
    "Keras & TensorFlow\"*\n",
    "\n",
    "Goal:\n",
    "We want to predict the house prices in california based on different properties.\n",
    "We use the California housing prices data set.\n",
    "\n",
    "\n",
    "First we need to download the dataset and load it with pandas."
   ]
  },
  {
   "cell_type": "code",
   "execution_count": 1,
   "metadata": {},
   "outputs": [
    {
     "data": {
      "text/html": [
       "<div>\n",
       "<style scoped>\n",
       "    .dataframe tbody tr th:only-of-type {\n",
       "        vertical-align: middle;\n",
       "    }\n",
       "\n",
       "    .dataframe tbody tr th {\n",
       "        vertical-align: top;\n",
       "    }\n",
       "\n",
       "    .dataframe thead th {\n",
       "        text-align: right;\n",
       "    }\n",
       "</style>\n",
       "<table border=\"1\" class=\"dataframe\">\n",
       "  <thead>\n",
       "    <tr style=\"text-align: right;\">\n",
       "      <th></th>\n",
       "      <th>longitude</th>\n",
       "      <th>latitude</th>\n",
       "      <th>housing_median_age</th>\n",
       "      <th>total_rooms</th>\n",
       "      <th>total_bedrooms</th>\n",
       "      <th>population</th>\n",
       "      <th>households</th>\n",
       "      <th>median_income</th>\n",
       "      <th>median_house_value</th>\n",
       "      <th>ocean_proximity</th>\n",
       "    </tr>\n",
       "  </thead>\n",
       "  <tbody>\n",
       "    <tr>\n",
       "      <th>0</th>\n",
       "      <td>-122.23</td>\n",
       "      <td>37.88</td>\n",
       "      <td>41.0</td>\n",
       "      <td>880.0</td>\n",
       "      <td>129.0</td>\n",
       "      <td>322.0</td>\n",
       "      <td>126.0</td>\n",
       "      <td>8.3252</td>\n",
       "      <td>452600.0</td>\n",
       "      <td>NEAR BAY</td>\n",
       "    </tr>\n",
       "    <tr>\n",
       "      <th>1</th>\n",
       "      <td>-122.22</td>\n",
       "      <td>37.86</td>\n",
       "      <td>21.0</td>\n",
       "      <td>7099.0</td>\n",
       "      <td>1106.0</td>\n",
       "      <td>2401.0</td>\n",
       "      <td>1138.0</td>\n",
       "      <td>8.3014</td>\n",
       "      <td>358500.0</td>\n",
       "      <td>NEAR BAY</td>\n",
       "    </tr>\n",
       "    <tr>\n",
       "      <th>2</th>\n",
       "      <td>-122.24</td>\n",
       "      <td>37.85</td>\n",
       "      <td>52.0</td>\n",
       "      <td>1467.0</td>\n",
       "      <td>190.0</td>\n",
       "      <td>496.0</td>\n",
       "      <td>177.0</td>\n",
       "      <td>7.2574</td>\n",
       "      <td>352100.0</td>\n",
       "      <td>NEAR BAY</td>\n",
       "    </tr>\n",
       "    <tr>\n",
       "      <th>3</th>\n",
       "      <td>-122.25</td>\n",
       "      <td>37.85</td>\n",
       "      <td>52.0</td>\n",
       "      <td>1274.0</td>\n",
       "      <td>235.0</td>\n",
       "      <td>558.0</td>\n",
       "      <td>219.0</td>\n",
       "      <td>5.6431</td>\n",
       "      <td>341300.0</td>\n",
       "      <td>NEAR BAY</td>\n",
       "    </tr>\n",
       "    <tr>\n",
       "      <th>4</th>\n",
       "      <td>-122.25</td>\n",
       "      <td>37.85</td>\n",
       "      <td>52.0</td>\n",
       "      <td>1627.0</td>\n",
       "      <td>280.0</td>\n",
       "      <td>565.0</td>\n",
       "      <td>259.0</td>\n",
       "      <td>3.8462</td>\n",
       "      <td>342200.0</td>\n",
       "      <td>NEAR BAY</td>\n",
       "    </tr>\n",
       "  </tbody>\n",
       "</table>\n",
       "</div>"
      ],
      "text/plain": [
       "   longitude  latitude  housing_median_age  total_rooms  total_bedrooms  \\\n",
       "0    -122.23     37.88                41.0        880.0           129.0   \n",
       "1    -122.22     37.86                21.0       7099.0          1106.0   \n",
       "2    -122.24     37.85                52.0       1467.0           190.0   \n",
       "3    -122.25     37.85                52.0       1274.0           235.0   \n",
       "4    -122.25     37.85                52.0       1627.0           280.0   \n",
       "\n",
       "   population  households  median_income  median_house_value ocean_proximity  \n",
       "0       322.0       126.0         8.3252            452600.0        NEAR BAY  \n",
       "1      2401.0      1138.0         8.3014            358500.0        NEAR BAY  \n",
       "2       496.0       177.0         7.2574            352100.0        NEAR BAY  \n",
       "3       558.0       219.0         5.6431            341300.0        NEAR BAY  \n",
       "4       565.0       259.0         3.8462            342200.0        NEAR BAY  "
      ]
     },
     "execution_count": 1,
     "metadata": {},
     "output_type": "execute_result"
    }
   ],
   "source": [
    "import os\n",
    "import tarfile\n",
    "import urllib\n",
    "import pandas as pd\n",
    "\n",
    "DOWNLOAD_ROOT = \"https://raw.githubusercontent.com/ageron/handson-ml2/master/\"\n",
    "HOUSING_PATH = os.path.join(\"datasets\", \"housing\")\n",
    "HOUSING_URL = DOWNLOAD_ROOT + \"datasets/housing/housing.tgz\"\n",
    "\n",
    "def fetch_housing_data(housing_url=HOUSING_URL, housing_path=HOUSING_PATH):\n",
    "    os.makedirs(housing_path, exist_ok=True)\n",
    "    tgz_path = os.path.join(housing_path, \"housing.tgz\")\n",
    "    urllib.request.urlretrieve(housing_url, tgz_path)\n",
    "    housing_tgz = tarfile.open(tgz_path)\n",
    "    housing_tgz.extractall(path=housing_path)\n",
    "    housing_tgz.close()\n",
    "    \n",
    "fetch_housing_data()\n",
    "housing = pd.read_csv(HOUSING_PATH + \"/housing.csv\")\n",
    "housing.head()"
   ]
  },
  {
   "cell_type": "markdown",
   "metadata": {},
   "source": [
    "We can see that there are 10 different attributes. One of them (ocean_proximity) is a categorial variable.\n",
    "\n",
    "We can use pandas to further describe the data."
   ]
  },
  {
   "cell_type": "code",
   "execution_count": 2,
   "metadata": {},
   "outputs": [
    {
     "name": "stdout",
     "output_type": "stream",
     "text": [
      "<class 'pandas.core.frame.DataFrame'>\n",
      "RangeIndex: 20640 entries, 0 to 20639\n",
      "Data columns (total 10 columns):\n",
      " #   Column              Non-Null Count  Dtype  \n",
      "---  ------              --------------  -----  \n",
      " 0   longitude           20640 non-null  float64\n",
      " 1   latitude            20640 non-null  float64\n",
      " 2   housing_median_age  20640 non-null  float64\n",
      " 3   total_rooms         20640 non-null  float64\n",
      " 4   total_bedrooms      20433 non-null  float64\n",
      " 5   population          20640 non-null  float64\n",
      " 6   households          20640 non-null  float64\n",
      " 7   median_income       20640 non-null  float64\n",
      " 8   median_house_value  20640 non-null  float64\n",
      " 9   ocean_proximity     20640 non-null  object \n",
      "dtypes: float64(9), object(1)\n",
      "memory usage: 1.6+ MB\n"
     ]
    },
    {
     "data": {
      "text/html": [
       "<div>\n",
       "<style scoped>\n",
       "    .dataframe tbody tr th:only-of-type {\n",
       "        vertical-align: middle;\n",
       "    }\n",
       "\n",
       "    .dataframe tbody tr th {\n",
       "        vertical-align: top;\n",
       "    }\n",
       "\n",
       "    .dataframe thead th {\n",
       "        text-align: right;\n",
       "    }\n",
       "</style>\n",
       "<table border=\"1\" class=\"dataframe\">\n",
       "  <thead>\n",
       "    <tr style=\"text-align: right;\">\n",
       "      <th></th>\n",
       "      <th>longitude</th>\n",
       "      <th>latitude</th>\n",
       "      <th>housing_median_age</th>\n",
       "      <th>total_rooms</th>\n",
       "      <th>total_bedrooms</th>\n",
       "      <th>population</th>\n",
       "      <th>households</th>\n",
       "      <th>median_income</th>\n",
       "      <th>median_house_value</th>\n",
       "    </tr>\n",
       "  </thead>\n",
       "  <tbody>\n",
       "    <tr>\n",
       "      <th>count</th>\n",
       "      <td>20640.000000</td>\n",
       "      <td>20640.000000</td>\n",
       "      <td>20640.000000</td>\n",
       "      <td>20640.000000</td>\n",
       "      <td>20433.000000</td>\n",
       "      <td>20640.000000</td>\n",
       "      <td>20640.000000</td>\n",
       "      <td>20640.000000</td>\n",
       "      <td>20640.000000</td>\n",
       "    </tr>\n",
       "    <tr>\n",
       "      <th>mean</th>\n",
       "      <td>-119.569704</td>\n",
       "      <td>35.631861</td>\n",
       "      <td>28.639486</td>\n",
       "      <td>2635.763081</td>\n",
       "      <td>537.870553</td>\n",
       "      <td>1425.476744</td>\n",
       "      <td>499.539680</td>\n",
       "      <td>3.870671</td>\n",
       "      <td>206855.816909</td>\n",
       "    </tr>\n",
       "    <tr>\n",
       "      <th>std</th>\n",
       "      <td>2.003532</td>\n",
       "      <td>2.135952</td>\n",
       "      <td>12.585558</td>\n",
       "      <td>2181.615252</td>\n",
       "      <td>421.385070</td>\n",
       "      <td>1132.462122</td>\n",
       "      <td>382.329753</td>\n",
       "      <td>1.899822</td>\n",
       "      <td>115395.615874</td>\n",
       "    </tr>\n",
       "    <tr>\n",
       "      <th>min</th>\n",
       "      <td>-124.350000</td>\n",
       "      <td>32.540000</td>\n",
       "      <td>1.000000</td>\n",
       "      <td>2.000000</td>\n",
       "      <td>1.000000</td>\n",
       "      <td>3.000000</td>\n",
       "      <td>1.000000</td>\n",
       "      <td>0.499900</td>\n",
       "      <td>14999.000000</td>\n",
       "    </tr>\n",
       "    <tr>\n",
       "      <th>25%</th>\n",
       "      <td>-121.800000</td>\n",
       "      <td>33.930000</td>\n",
       "      <td>18.000000</td>\n",
       "      <td>1447.750000</td>\n",
       "      <td>296.000000</td>\n",
       "      <td>787.000000</td>\n",
       "      <td>280.000000</td>\n",
       "      <td>2.563400</td>\n",
       "      <td>119600.000000</td>\n",
       "    </tr>\n",
       "    <tr>\n",
       "      <th>50%</th>\n",
       "      <td>-118.490000</td>\n",
       "      <td>34.260000</td>\n",
       "      <td>29.000000</td>\n",
       "      <td>2127.000000</td>\n",
       "      <td>435.000000</td>\n",
       "      <td>1166.000000</td>\n",
       "      <td>409.000000</td>\n",
       "      <td>3.534800</td>\n",
       "      <td>179700.000000</td>\n",
       "    </tr>\n",
       "    <tr>\n",
       "      <th>75%</th>\n",
       "      <td>-118.010000</td>\n",
       "      <td>37.710000</td>\n",
       "      <td>37.000000</td>\n",
       "      <td>3148.000000</td>\n",
       "      <td>647.000000</td>\n",
       "      <td>1725.000000</td>\n",
       "      <td>605.000000</td>\n",
       "      <td>4.743250</td>\n",
       "      <td>264725.000000</td>\n",
       "    </tr>\n",
       "    <tr>\n",
       "      <th>max</th>\n",
       "      <td>-114.310000</td>\n",
       "      <td>41.950000</td>\n",
       "      <td>52.000000</td>\n",
       "      <td>39320.000000</td>\n",
       "      <td>6445.000000</td>\n",
       "      <td>35682.000000</td>\n",
       "      <td>6082.000000</td>\n",
       "      <td>15.000100</td>\n",
       "      <td>500001.000000</td>\n",
       "    </tr>\n",
       "  </tbody>\n",
       "</table>\n",
       "</div>"
      ],
      "text/plain": [
       "          longitude      latitude  housing_median_age   total_rooms  \\\n",
       "count  20640.000000  20640.000000        20640.000000  20640.000000   \n",
       "mean    -119.569704     35.631861           28.639486   2635.763081   \n",
       "std        2.003532      2.135952           12.585558   2181.615252   \n",
       "min     -124.350000     32.540000            1.000000      2.000000   \n",
       "25%     -121.800000     33.930000           18.000000   1447.750000   \n",
       "50%     -118.490000     34.260000           29.000000   2127.000000   \n",
       "75%     -118.010000     37.710000           37.000000   3148.000000   \n",
       "max     -114.310000     41.950000           52.000000  39320.000000   \n",
       "\n",
       "       total_bedrooms    population    households  median_income  \\\n",
       "count    20433.000000  20640.000000  20640.000000   20640.000000   \n",
       "mean       537.870553   1425.476744    499.539680       3.870671   \n",
       "std        421.385070   1132.462122    382.329753       1.899822   \n",
       "min          1.000000      3.000000      1.000000       0.499900   \n",
       "25%        296.000000    787.000000    280.000000       2.563400   \n",
       "50%        435.000000   1166.000000    409.000000       3.534800   \n",
       "75%        647.000000   1725.000000    605.000000       4.743250   \n",
       "max       6445.000000  35682.000000   6082.000000      15.000100   \n",
       "\n",
       "       median_house_value  \n",
       "count        20640.000000  \n",
       "mean        206855.816909  \n",
       "std         115395.615874  \n",
       "min          14999.000000  \n",
       "25%         119600.000000  \n",
       "50%         179700.000000  \n",
       "75%         264725.000000  \n",
       "max         500001.000000  "
      ]
     },
     "execution_count": 2,
     "metadata": {},
     "output_type": "execute_result"
    }
   ],
   "source": [
    "housing.info()\n",
    "housing.describe()"
   ]
  },
  {
   "cell_type": "markdown",
   "metadata": {},
   "source": [
    "For total_bedrooms we only have 20433 entries instead of the 20640 for the other variables.\n",
    "\n",
    "Plotting the data shows us that the data really resembles California and that\n",
    "the housing prices increase closer to the ocean."
   ]
  },
  {
   "cell_type": "code",
   "execution_count": 3,
   "metadata": {},
   "outputs": [
    {
     "data": {
      "text/plain": [
       "<matplotlib.legend.Legend at 0x202b591c400>"
      ]
     },
     "execution_count": 3,
     "metadata": {},
     "output_type": "execute_result"
    },
    {
     "data": {
      "image/png": "[encoded data removed]",
      "text/plain": [
       "<Figure size 720x504 with 2 Axes>"
      ]
     },
     "metadata": {
      "needs_background": "light"
     },
     "output_type": "display_data"
    }
   ],
   "source": [
    "%matplotlib inline\n",
    "import matplotlib.pyplot as plt\n",
    "\n",
    "housing.plot(kind=\"scatter\", x=\"longitude\", y=\"latitude\", alpha=0.4,\n",
    "             s=housing[\"population\"]/100, label=\"population\", figsize=(10,7),\n",
    "             c=\"median_house_value\", cmap=plt.get_cmap(\"jet\"), colorbar=True)\n",
    "plt.legend()"
   ]
  },
  {
   "cell_type": "code",
   "execution_count": 4,
   "metadata": {},
   "outputs": [
    {
     "data": {
      "text/plain": [
       "array([[<AxesSubplot:title={'center':'longitude'}>,\n",
       "        <AxesSubplot:title={'center':'latitude'}>,\n",
       "        <AxesSubplot:title={'center':'housing_median_age'}>],\n",
       "       [<AxesSubplot:title={'center':'total_rooms'}>,\n",
       "        <AxesSubplot:title={'center':'total_bedrooms'}>,\n",
       "        <AxesSubplot:title={'center':'population'}>],\n",
       "       [<AxesSubplot:title={'center':'households'}>,\n",
       "        <AxesSubplot:title={'center':'median_income'}>,\n",
       "        <AxesSubplot:title={'center':'median_house_value'}>]],\n",
       "      dtype=object)"
      ]
     },
     "execution_count": 4,
     "metadata": {},
     "output_type": "execute_result"
    },
    {
     "data": {
      "image/png": "[encoded data removed]",
      "text/plain": [
       "<Figure size 1440x1080 with 9 Axes>"
      ]
     },
     "metadata": {
      "needs_background": "light"
     },
     "output_type": "display_data"
    }
   ],
   "source": [
    "housing.hist(bins=50, figsize=(20,15))"
   ]
  },
  {
   "cell_type": "code",
   "execution_count": 5,
   "metadata": {},
   "outputs": [
    {
     "data": {
      "text/plain": [
       "median_house_value    1.000000\n",
       "median_income         0.688075\n",
       "total_rooms           0.134153\n",
       "housing_median_age    0.105623\n",
       "households            0.065843\n",
       "total_bedrooms        0.049686\n",
       "population           -0.024650\n",
       "longitude            -0.045967\n",
       "latitude             -0.144160\n",
       "Name: median_house_value, dtype: float64"
      ]
     },
     "execution_count": 5,
     "metadata": {},
     "output_type": "execute_result"
    }
   ],
   "source": [
    "corr_matrix = housing.corr()\n",
    "corr_matrix[\"median_house_value\"].sort_values(ascending=False)"
   ]
  },
  {
   "cell_type": "markdown",
   "metadata": {},
   "source": [
    "The correlation matrix shows us that the median income is positive correlated with the\n",
    "price of the house. That makes sense because people with more money would buy more expensive\n",
    "houses. \n",
    "But the number of rooms and the total number of bedrooms has almost no correlation with the price\n",
    "but logically it should have because more rooms means higher prices. But because the number of rooms is\n",
    "the added number of all households in that region we need to modify the data to get the average amount\n",
    "of rooms in the area."
   ]
  },
  {
   "cell_type": "code",
   "execution_count": 6,
   "metadata": {},
   "outputs": [
    {
     "data": {
      "text/plain": [
       "median_house_value    1.000000\n",
       "median_income         0.688075\n",
       "rooms_per_house       0.151948\n",
       "total_rooms           0.134153\n",
       "housing_median_age    0.105623\n",
       "households            0.065843\n",
       "total_bedrooms        0.049686\n",
       "population           -0.024650\n",
       "longitude            -0.045967\n",
       "latitude             -0.144160\n",
       "bedroom_room_ratio   -0.255880\n",
       "Name: median_house_value, dtype: float64"
      ]
     },
     "execution_count": 6,
     "metadata": {},
     "output_type": "execute_result"
    }
   ],
   "source": [
    "housing_modified = housing.copy()\n",
    "housing_modified[\"rooms_per_house\"] = housing_modified[\"total_rooms\"]/housing_modified[\"households\"]\n",
    "housing_modified[\"bedroom_room_ratio\"] = housing_modified[\"total_bedrooms\"]/housing_modified[\"total_rooms\"]\n",
    "corr_matrix = housing_modified.corr()\n",
    "corr_matrix[\"median_house_value\"].sort_values(ascending=False)"
   ]
  },
  {
   "cell_type": "markdown",
   "metadata": {},
   "source": [
    "Now the rooms per house are more positivly correlated and the bedroom/room ratio is interestingly negatively correlated.\n",
    "That means houses with less bedrooms than other rooms are more expensive."
   ]
  },
  {
   "cell_type": "markdown",
   "metadata": {},
   "source": [
    "# Splitting the data"
   ]
  },
  {
   "cell_type": "code",
   "execution_count": 7,
   "metadata": {},
   "outputs": [],
   "source": [
    "from sklearn.model_selection import train_test_split\n",
    "\n",
    "train_set, test_set = train_test_split(housing, test_size=0.2, random_state=42)\n",
    "\n",
    "train_y = train_set[\"median_house_value\"].copy()\n",
    "train_x = train_set.drop(\"median_house_value\", axis=1)\n",
    "\n",
    "test_y = test_set[\"median_house_value\"].copy()\n",
    "test_x = test_set.drop(\"median_house_value\", axis=1)"
   ]
  },
  {
   "cell_type": "markdown",
   "metadata": {},
   "source": [
    "# Data cleanup\n",
    "\n",
    "We need to clean up the data. \n",
    "That means we need to\n",
    "1. fill the missing values\n",
    "2. rescale the data\n",
    "3. recalculate the ocean proximity to a one hot vector\n",
    "4. add the attributes \"bedroom_room_ratio\", \"rooms_per_house\""
   ]
  },
  {
   "cell_type": "code",
   "execution_count": 8,
   "metadata": {},
   "outputs": [],
   "source": [
    "from sklearn.base import BaseEstimator, TransformerMixin\n",
    "import numpy as np\n",
    "\n",
    "rooms_ix, bedrooms_ix, population_ix, households_ix = 3, 4, 5, 6\n",
    "\n",
    "class CombinedAttributesAdder(BaseEstimator, TransformerMixin):\n",
    "    def __init__(self, add_bedrooms_per_room=True):\n",
    "        self.add_bedrooms_per_room = add_bedrooms_per_room\n",
    "    def fit(self, X, y=None):\n",
    "        return self\n",
    "    def transform(self, X):\n",
    "        rooms_per_household = X[:, rooms_ix] / X[:, households_ix]\n",
    "        population_per_household = X[:, population_ix] / X[:, households_ix]\n",
    "        if self.add_bedrooms_per_room:\n",
    "            bedrooms_per_room = X[:, bedrooms_ix] / X[:, rooms_ix]\n",
    "            return np.c_[X, rooms_per_household, population_per_household, bedrooms_per_room]\n",
    "        else:\n",
    "            return np.c_[X, rooms_per_household, population_per_household]"
   ]
  },
  {
   "cell_type": "code",
   "execution_count": 9,
   "metadata": {},
   "outputs": [
    {
     "data": {
      "text/html": [
       "<div>\n",
       "<style scoped>\n",
       "    .dataframe tbody tr th:only-of-type {\n",
       "        vertical-align: middle;\n",
       "    }\n",
       "\n",
       "    .dataframe tbody tr th {\n",
       "        vertical-align: top;\n",
       "    }\n",
       "\n",
       "    .dataframe thead th {\n",
       "        text-align: right;\n",
       "    }\n",
       "</style>\n",
       "<table border=\"1\" class=\"dataframe\">\n",
       "  <thead>\n",
       "    <tr style=\"text-align: right;\">\n",
       "      <th></th>\n",
       "      <th>0</th>\n",
       "      <th>1</th>\n",
       "      <th>2</th>\n",
       "      <th>3</th>\n",
       "      <th>4</th>\n",
       "      <th>5</th>\n",
       "      <th>6</th>\n",
       "      <th>7</th>\n",
       "      <th>8</th>\n",
       "      <th>9</th>\n",
       "      <th>10</th>\n",
       "      <th>11</th>\n",
       "      <th>12</th>\n",
       "      <th>13</th>\n",
       "      <th>14</th>\n",
       "      <th>15</th>\n",
       "    </tr>\n",
       "  </thead>\n",
       "  <tbody>\n",
       "    <tr>\n",
       "      <th>0</th>\n",
       "      <td>1.272587</td>\n",
       "      <td>-1.372811</td>\n",
       "      <td>0.348490</td>\n",
       "      <td>0.222569</td>\n",
       "      <td>0.211228</td>\n",
       "      <td>0.768276</td>\n",
       "      <td>0.322906</td>\n",
       "      <td>-0.326196</td>\n",
       "      <td>-0.174916</td>\n",
       "      <td>0.051376</td>\n",
       "      <td>-0.211785</td>\n",
       "      <td>0.0</td>\n",
       "      <td>0.0</td>\n",
       "      <td>0.0</td>\n",
       "      <td>0.0</td>\n",
       "      <td>1.0</td>\n",
       "    </tr>\n",
       "    <tr>\n",
       "      <th>1</th>\n",
       "      <td>0.709162</td>\n",
       "      <td>-0.876696</td>\n",
       "      <td>1.618118</td>\n",
       "      <td>0.340293</td>\n",
       "      <td>0.593094</td>\n",
       "      <td>-0.098901</td>\n",
       "      <td>0.672027</td>\n",
       "      <td>-0.035843</td>\n",
       "      <td>-0.402835</td>\n",
       "      <td>-0.117362</td>\n",
       "      <td>0.342185</td>\n",
       "      <td>0.0</td>\n",
       "      <td>0.0</td>\n",
       "      <td>0.0</td>\n",
       "      <td>0.0</td>\n",
       "      <td>1.0</td>\n",
       "    </tr>\n",
       "    <tr>\n",
       "      <th>2</th>\n",
       "      <td>-0.447603</td>\n",
       "      <td>-0.460146</td>\n",
       "      <td>-1.952710</td>\n",
       "      <td>-0.342597</td>\n",
       "      <td>-0.495226</td>\n",
       "      <td>-0.449818</td>\n",
       "      <td>-0.430461</td>\n",
       "      <td>0.144701</td>\n",
       "      <td>0.088216</td>\n",
       "      <td>-0.032280</td>\n",
       "      <td>-0.661658</td>\n",
       "      <td>0.0</td>\n",
       "      <td>0.0</td>\n",
       "      <td>0.0</td>\n",
       "      <td>0.0</td>\n",
       "      <td>1.0</td>\n",
       "    </tr>\n",
       "    <tr>\n",
       "      <th>3</th>\n",
       "      <td>1.232698</td>\n",
       "      <td>-1.382172</td>\n",
       "      <td>0.586545</td>\n",
       "      <td>-0.561490</td>\n",
       "      <td>-0.409306</td>\n",
       "      <td>-0.007434</td>\n",
       "      <td>-0.380587</td>\n",
       "      <td>-1.017864</td>\n",
       "      <td>-0.600015</td>\n",
       "      <td>0.077507</td>\n",
       "      <td>0.783032</td>\n",
       "      <td>0.0</td>\n",
       "      <td>0.0</td>\n",
       "      <td>0.0</td>\n",
       "      <td>0.0</td>\n",
       "      <td>1.0</td>\n",
       "    </tr>\n",
       "    <tr>\n",
       "      <th>4</th>\n",
       "      <td>-0.108551</td>\n",
       "      <td>0.532084</td>\n",
       "      <td>1.142008</td>\n",
       "      <td>-0.119565</td>\n",
       "      <td>-0.256559</td>\n",
       "      <td>-0.485877</td>\n",
       "      <td>-0.314962</td>\n",
       "      <td>-0.171488</td>\n",
       "      <td>0.349007</td>\n",
       "      <td>-0.068832</td>\n",
       "      <td>-0.550364</td>\n",
       "      <td>0.0</td>\n",
       "      <td>1.0</td>\n",
       "      <td>0.0</td>\n",
       "      <td>0.0</td>\n",
       "      <td>0.0</td>\n",
       "    </tr>\n",
       "  </tbody>\n",
       "</table>\n",
       "</div>"
      ],
      "text/plain": [
       "         0         1         2         3         4         5         6   \\\n",
       "0  1.272587 -1.372811  0.348490  0.222569  0.211228  0.768276  0.322906   \n",
       "1  0.709162 -0.876696  1.618118  0.340293  0.593094 -0.098901  0.672027   \n",
       "2 -0.447603 -0.460146 -1.952710 -0.342597 -0.495226 -0.449818 -0.430461   \n",
       "3  1.232698 -1.382172  0.586545 -0.561490 -0.409306 -0.007434 -0.380587   \n",
       "4 -0.108551  0.532084  1.142008 -0.119565 -0.256559 -0.485877 -0.314962   \n",
       "\n",
       "         7         8         9         10   11   12   13   14   15  \n",
       "0 -0.326196 -0.174916  0.051376 -0.211785  0.0  0.0  0.0  0.0  1.0  \n",
       "1 -0.035843 -0.402835 -0.117362  0.342185  0.0  0.0  0.0  0.0  1.0  \n",
       "2  0.144701  0.088216 -0.032280 -0.661658  0.0  0.0  0.0  0.0  1.0  \n",
       "3 -1.017864 -0.600015  0.077507  0.783032  0.0  0.0  0.0  0.0  1.0  \n",
       "4 -0.171488  0.349007 -0.068832 -0.550364  0.0  1.0  0.0  0.0  0.0  "
      ]
     },
     "execution_count": 9,
     "metadata": {},
     "output_type": "execute_result"
    }
   ],
   "source": [
    "from sklearn.impute import SimpleImputer\n",
    "from sklearn.preprocessing import StandardScaler, OneHotEncoder\n",
    "from sklearn.compose import ColumnTransformer\n",
    "from sklearn.pipeline import Pipeline\n",
    "\n",
    "num_attribs = list(train_x.drop(\"ocean_proximity\", axis=1))\n",
    "cat_attribs = [\"ocean_proximity\"]\n",
    "\n",
    "pipeline = ColumnTransformer([\n",
    "    (\"num\", Pipeline([\n",
    "        ('imputer', SimpleImputer(strategy=\"median\")),\n",
    "        ('attribs_adder', CombinedAttributesAdder()),\n",
    "        ('std_scaler', StandardScaler())\n",
    "    ]), num_attribs),\n",
    "    (\"cat\", OneHotEncoder(), cat_attribs)\n",
    "])\n",
    "train_x_cleaned = pd.DataFrame(pipeline.fit_transform(train_x))\n",
    "train_x_cleaned.head()"
   ]
  },
  {
   "cell_type": "markdown",
   "metadata": {},
   "source": [
    "# Train a linear regression model\n"
   ]
  },
  {
   "cell_type": "code",
   "execution_count": 10,
   "metadata": {},
   "outputs": [],
   "source": [
    "from sklearn.model_selection import cross_val_score\n",
    "from sklearn.metrics import mean_squared_error\n",
    "\n",
    "small_test_x = train_x_cleaned.iloc[:5]\n",
    "small_test_y = train_y.iloc[:5]\n",
    "\n",
    "def compute_mse(model):\n",
    "    predictions = model.predict(small_test_x)\n",
    "    mse = mean_squared_error(small_test_y, predictions)\n",
    "    return np.sqrt(mse)\n",
    "\n",
    "def display_scores(score, cross_val_scores):\n",
    "    print(f\"score: {score}\")\n",
    "    print(f\"cross val mean: {cross_val_scores.mean()}\")\n",
    "    print(f\"cross val std: {cross_val_scores.std()}\")"
   ]
  },
  {
   "cell_type": "code",
   "execution_count": 11,
   "metadata": {},
   "outputs": [
    {
     "name": "stdout",
     "output_type": "stream",
     "text": [
      "score: 73605.47230869909\n",
      "cross val mean: 67828.38677377408\n",
      "cross val std: 2468.091395065229\n"
     ]
    }
   ],
   "source": [
    "from sklearn.linear_model import LinearRegression\n",
    "\n",
    "lin_reg = LinearRegression()\n",
    "lin_reg.fit(train_x_cleaned, train_y)\n",
    "score = compute_mse(lin_reg)\n",
    "\n",
    "scores = cross_val_score(lin_reg, train_x_cleaned, train_y, scoring=\"neg_mean_squared_error\", cv=10)\n",
    "\n",
    "display_scores(score, np.sqrt(-scores))"
   ]
  },
  {
   "cell_type": "markdown",
   "metadata": {},
   "source": [
    "# Train a regression tree"
   ]
  },
  {
   "cell_type": "code",
   "execution_count": 12,
   "metadata": {},
   "outputs": [
    {
     "name": "stdout",
     "output_type": "stream",
     "text": [
      "score: 0.0\n",
      "cross val mean: 69256.84963618206\n",
      "cross val std: 2185.995424688538\n"
     ]
    }
   ],
   "source": [
    "from sklearn.tree import DecisionTreeRegressor\n",
    "from sklearn.model_selection import cross_val_score\n",
    "\n",
    "tree_reg = DecisionTreeRegressor()\n",
    "tree_reg.fit(train_x_cleaned, train_y)\n",
    "score = compute_mse(tree_reg)\n",
    "\n",
    "scores = cross_val_score(tree_reg, train_x_cleaned, train_y,\n",
    "                         scoring=\"neg_mean_squared_error\", cv=10)\n",
    "display_scores(score, np.sqrt(-scores))"
   ]
  },
  {
   "cell_type": "markdown",
   "metadata": {},
   "source": [
    "Seems like the regression tree completely overfitted the data because if we use the complete\n",
    "training set we get a MSE score of zero. If we use cross validation the mean score is worse than\n",
    "for the linear regressor, this means that also there the tree overfits the data and then\n",
    "fails on the validation set."
   ]
  },
  {
   "cell_type": "markdown",
   "metadata": {},
   "source": [
    "# Train a random forest"
   ]
  },
  {
   "cell_type": "code",
   "execution_count": 13,
   "metadata": {},
   "outputs": [
    {
     "name": "stdout",
     "output_type": "stream",
     "text": [
      "score: 10506.62151828646\n",
      "cross val mean: 49717.11989513195\n",
      "cross val std: 1796.8400643382593\n"
     ]
    }
   ],
   "source": [
    "from sklearn.ensemble import RandomForestRegressor\n",
    "\n",
    "random_reg = RandomForestRegressor()\n",
    "random_reg.fit(train_x_cleaned, train_y)\n",
    "score = compute_mse(random_reg)\n",
    "\n",
    "scores = cross_val_score(random_reg, train_x_cleaned, train_y,\n",
    "                         scoring=\"neg_mean_squared_error\", cv=10)\n",
    "\n",
    "display_scores(score, np.sqrt(-scores))"
   ]
  },
  {
   "cell_type": "markdown",
   "metadata": {},
   "source": [
    "The random forest scores better than the regression tree but also still overfits the data\n",
    "this can be seen in the difference between the score of the complete train set and the\n",
    "cross validation set."
   ]
  },
  {
   "cell_type": "markdown",
   "metadata": {},
   "source": [
    "# Grid search for best hyperparameters\n",
    "\n",
    "We try to find the best combination of hyperparameters for our random forest regressor"
   ]
  },
  {
   "cell_type": "code",
   "execution_count": 15,
   "metadata": {},
   "outputs": [
    {
     "name": "stdout",
     "output_type": "stream",
     "text": [
      "Best parameters are {'bootstrap': False, 'max_features': 6, 'n_estimators': 250}\n"
     ]
    }
   ],
   "source": [
    "from sklearn.model_selection import GridSearchCV\n",
    "\n",
    "param_grid = [\n",
    "    {'n_estimators': [3, 10, 30, 60, 100, 150, 200, 250, 300], 'max_features': [2, 4, 6, 8, 10]},\n",
    "    {'bootstrap': [False], 'n_estimators': [3, 10, 30, 60, 100, 150, 200, 250, 300], 'max_features': [2, 4, 6, 8, 10]}\n",
    "]\n",
    "\n",
    "forest_reg = RandomForestRegressor()\n",
    "grid_search = GridSearchCV(forest_reg, param_grid, cv=5,\n",
    "                           scoring='neg_mean_squared_error',\n",
    "                           return_train_score=True)\n",
    "\n",
    "grid_search.fit(train_x_cleaned, train_y)\n",
    "print(f\"Best parameters are {grid_search.best_params_}\")"
   ]
  },
  {
   "cell_type": "code",
   "execution_count": 17,
   "metadata": {},
   "outputs": [
    {
     "name": "stdout",
     "output_type": "stream",
     "text": [
      "64140.50582042172 {'max_features': 2, 'n_estimators': 3}\n",
      "55128.101306343735 {'max_features': 2, 'n_estimators': 10}\n",
      "52779.686383924854 {'max_features': 2, 'n_estimators': 30}\n",
      "51844.77339482176 {'max_features': 2, 'n_estimators': 60}\n",
      "51604.469595609065 {'max_features': 2, 'n_estimators': 100}\n",
      "51320.25183678762 {'max_features': 2, 'n_estimators': 150}\n",
      "51388.214308055794 {'max_features': 2, 'n_estimators': 200}\n",
      "51366.771751807944 {'max_features': 2, 'n_estimators': 250}\n",
      "51178.73209142403 {'max_features': 2, 'n_estimators': 300}\n",
      "60459.51784451492 {'max_features': 4, 'n_estimators': 3}\n",
      "52729.05480693781 {'max_features': 4, 'n_estimators': 10}\n",
      "50463.332477243006 {'max_features': 4, 'n_estimators': 30}\n",
      "49459.68381831237 {'max_features': 4, 'n_estimators': 60}\n",
      "49428.07709679035 {'max_features': 4, 'n_estimators': 100}\n",
      "49276.26026305558 {'max_features': 4, 'n_estimators': 150}\n",
      "49234.811841642164 {'max_features': 4, 'n_estimators': 200}\n",
      "49208.5144310499 {'max_features': 4, 'n_estimators': 250}\n",
      "49150.29501826801 {'max_features': 4, 'n_estimators': 300}\n",
      "58978.90117224838 {'max_features': 6, 'n_estimators': 3}\n",
      "51899.82415319287 {'max_features': 6, 'n_estimators': 10}\n",
      "50038.031534840986 {'max_features': 6, 'n_estimators': 30}\n",
      "49412.409122416015 {'max_features': 6, 'n_estimators': 60}\n",
      "49118.74486943571 {'max_features': 6, 'n_estimators': 100}\n",
      "48936.74924410741 {'max_features': 6, 'n_estimators': 150}\n",
      "48929.901024103376 {'max_features': 6, 'n_estimators': 200}\n",
      "48922.99707468337 {'max_features': 6, 'n_estimators': 250}\n",
      "48898.923479803576 {'max_features': 6, 'n_estimators': 300}\n",
      "58828.515018235834 {'max_features': 8, 'n_estimators': 3}\n",
      "51691.99730973436 {'max_features': 8, 'n_estimators': 10}\n",
      "50189.79459171173 {'max_features': 8, 'n_estimators': 30}\n",
      "49610.31069635244 {'max_features': 8, 'n_estimators': 60}\n",
      "49352.36802660868 {'max_features': 8, 'n_estimators': 100}\n",
      "49114.078441372825 {'max_features': 8, 'n_estimators': 150}\n",
      "49026.20272901283 {'max_features': 8, 'n_estimators': 200}\n",
      "49008.018486388704 {'max_features': 8, 'n_estimators': 250}\n",
      "49051.91450007354 {'max_features': 8, 'n_estimators': 300}\n",
      "58830.00856201228 {'max_features': 10, 'n_estimators': 3}\n",
      "52165.29060436126 {'max_features': 10, 'n_estimators': 10}\n",
      "50046.27961790738 {'max_features': 10, 'n_estimators': 30}\n",
      "49775.48686944534 {'max_features': 10, 'n_estimators': 60}\n",
      "49458.857331193925 {'max_features': 10, 'n_estimators': 100}\n",
      "49417.18999818657 {'max_features': 10, 'n_estimators': 150}\n",
      "49263.526927037106 {'max_features': 10, 'n_estimators': 200}\n",
      "49270.914702870694 {'max_features': 10, 'n_estimators': 250}\n",
      "49274.9508470677 {'max_features': 10, 'n_estimators': 300}\n",
      "62638.79774874985 {'bootstrap': False, 'max_features': 2, 'n_estimators': 3}\n",
      "54159.15501696924 {'bootstrap': False, 'max_features': 2, 'n_estimators': 10}\n",
      "51537.33834091443 {'bootstrap': False, 'max_features': 2, 'n_estimators': 30}\n",
      "50723.12449702394 {'bootstrap': False, 'max_features': 2, 'n_estimators': 60}\n",
      "50412.539218668826 {'bootstrap': False, 'max_features': 2, 'n_estimators': 100}\n",
      "50361.8357112559 {'bootstrap': False, 'max_features': 2, 'n_estimators': 150}\n",
      "50315.57903246688 {'bootstrap': False, 'max_features': 2, 'n_estimators': 200}\n",
      "50158.87561815735 {'bootstrap': False, 'max_features': 2, 'n_estimators': 250}\n",
      "50338.35086733604 {'bootstrap': False, 'max_features': 2, 'n_estimators': 300}\n",
      "58438.576784814184 {'bootstrap': False, 'max_features': 4, 'n_estimators': 3}\n",
      "51301.38640596628 {'bootstrap': False, 'max_features': 4, 'n_estimators': 10}\n",
      "49343.67756074609 {'bootstrap': False, 'max_features': 4, 'n_estimators': 30}\n",
      "48800.91105055367 {'bootstrap': False, 'max_features': 4, 'n_estimators': 60}\n",
      "48378.45085652331 {'bootstrap': False, 'max_features': 4, 'n_estimators': 100}\n",
      "48347.264264381796 {'bootstrap': False, 'max_features': 4, 'n_estimators': 150}\n",
      "48187.89824228236 {'bootstrap': False, 'max_features': 4, 'n_estimators': 200}\n",
      "48275.952130750644 {'bootstrap': False, 'max_features': 4, 'n_estimators': 250}\n",
      "48182.67401694966 {'bootstrap': False, 'max_features': 4, 'n_estimators': 300}\n",
      "58312.264657392145 {'bootstrap': False, 'max_features': 6, 'n_estimators': 3}\n",
      "51036.7077369456 {'bootstrap': False, 'max_features': 6, 'n_estimators': 10}\n",
      "49050.29287098795 {'bootstrap': False, 'max_features': 6, 'n_estimators': 30}\n",
      "48368.78806557991 {'bootstrap': False, 'max_features': 6, 'n_estimators': 60}\n",
      "48245.630531021176 {'bootstrap': False, 'max_features': 6, 'n_estimators': 100}\n",
      "48193.86968905808 {'bootstrap': False, 'max_features': 6, 'n_estimators': 150}\n",
      "48198.09631503098 {'bootstrap': False, 'max_features': 6, 'n_estimators': 200}\n",
      "48075.90619153566 {'bootstrap': False, 'max_features': 6, 'n_estimators': 250}\n",
      "48115.67091663871 {'bootstrap': False, 'max_features': 6, 'n_estimators': 300}\n",
      "56397.48857086157 {'bootstrap': False, 'max_features': 8, 'n_estimators': 3}\n",
      "51647.99418584345 {'bootstrap': False, 'max_features': 8, 'n_estimators': 10}\n",
      "49595.66623820562 {'bootstrap': False, 'max_features': 8, 'n_estimators': 30}\n",
      "49135.07019092637 {'bootstrap': False, 'max_features': 8, 'n_estimators': 60}\n",
      "48738.36324411543 {'bootstrap': False, 'max_features': 8, 'n_estimators': 100}\n",
      "48602.27860569799 {'bootstrap': False, 'max_features': 8, 'n_estimators': 150}\n",
      "48618.74459343738 {'bootstrap': False, 'max_features': 8, 'n_estimators': 200}\n",
      "48556.853857412054 {'bootstrap': False, 'max_features': 8, 'n_estimators': 250}\n",
      "48516.71360740606 {'bootstrap': False, 'max_features': 8, 'n_estimators': 300}\n",
      "57470.00423885349 {'bootstrap': False, 'max_features': 10, 'n_estimators': 3}\n",
      "51326.21808924742 {'bootstrap': False, 'max_features': 10, 'n_estimators': 10}\n",
      "50030.30985791179 {'bootstrap': False, 'max_features': 10, 'n_estimators': 30}\n",
      "49645.96685807851 {'bootstrap': False, 'max_features': 10, 'n_estimators': 60}\n",
      "49588.2133481326 {'bootstrap': False, 'max_features': 10, 'n_estimators': 100}\n",
      "49455.26221406635 {'bootstrap': False, 'max_features': 10, 'n_estimators': 150}\n",
      "49337.720411413706 {'bootstrap': False, 'max_features': 10, 'n_estimators': 200}\n",
      "49276.30994863247 {'bootstrap': False, 'max_features': 10, 'n_estimators': 250}\n",
      "49260.012029792204 {'bootstrap': False, 'max_features': 10, 'n_estimators': 300}\n"
     ]
    }
   ],
   "source": [
    "cvres = grid_search.cv_results_\n",
    "for mean_score, params in zip(cvres[\"mean_test_score\"], cvres[\"params\"]):\n",
    "    print(np.sqrt(-mean_score), params)"
   ]
  },
  {
   "cell_type": "code",
   "execution_count": 18,
   "metadata": {},
   "outputs": [
    {
     "name": "stdout",
     "output_type": "stream",
     "text": [
      "MSE of best estimator 0.0\n"
     ]
    }
   ],
   "source": [
    "forest_mse = compute_mse(grid_search.best_estimator_)\n",
    "print(f\"MSE of best estimator {forest_mse}\")"
   ]
  },
  {
   "cell_type": "markdown",
   "metadata": {},
   "source": [
    "Sees like the best parameter set does overfit the dataset.\n",
    "\n",
    "We can try the parameters from the book and see that we get a slightly better\n",
    "result."
   ]
  },
  {
   "cell_type": "code",
   "execution_count": 20,
   "metadata": {},
   "outputs": [
    {
     "name": "stdout",
     "output_type": "stream",
     "text": [
      "Best parameters are {'max_features': 6, 'n_estimators': 30}\n",
      "MSE book forest 26257.07041964972\n"
     ]
    }
   ],
   "source": [
    "param_grid = [\n",
    "    {'n_estimators': [3, 10, 30], 'max_features': [2, 4, 6, 8]},\n",
    "    {'bootstrap': [False], 'n_estimators': [3, 10], 'max_features': [2, 3, 4]}\n",
    "]\n",
    "\n",
    "forest_reg_book = RandomForestRegressor()\n",
    "grid_search_book = GridSearchCV(forest_reg_book, param_grid, cv=5,\n",
    "                           scoring='neg_mean_squared_error',\n",
    "                           return_train_score=True)\n",
    "\n",
    "grid_search_book.fit(train_x_cleaned, train_y)\n",
    "print(f\"Best parameters are {grid_search_book.best_params_}\")\n",
    "forest_book_mse = compute_mse(grid_search_book.best_estimator_)\n",
    "print(f\"MSE book forest {forest_book_mse}\")"
   ]
  },
  {
   "cell_type": "markdown",
   "metadata": {},
   "source": [
    "# Importance of the attributes\n",
    "\n",
    "Let's plot which attributes are more important to the model"
   ]
  },
  {
   "cell_type": "code",
   "execution_count": 92,
   "metadata": {},
   "outputs": [],
   "source": [
    "def show_feature_importances(model):\n",
    "    extra_attribs = [\"rooms_per_hhold\", \"pop_per_hhold\", \"bedrooms_per_room\"]\n",
    "    cat_encoder = pipeline.named_transformers_[\"cat\"]\n",
    "    cat_one_hot_attribs = list(cat_encoder.categories_[0])\n",
    "    attributes = num_attribs + extra_attribs + cat_one_hot_attribs\n",
    "    feature_importances = model.feature_importances_\n",
    "    return sorted(zip(feature_importances, attributes), reverse=True)"
   ]
  },
  {
   "cell_type": "code",
   "execution_count": 41,
   "metadata": {},
   "outputs": [
    {
     "data": {
      "text/plain": [
       "[(0.3407738042633533, 'median_income'),\n",
       " (0.15042008260454118, 'INLAND'),\n",
       " (0.10812275426674532, 'pop_per_hhold'),\n",
       " (0.07423760570132339, 'longitude'),\n",
       " (0.07127413444703445, 'latitude'),\n",
       " (0.06773924962835774, 'bedrooms_per_room'),\n",
       " (0.06119403697508052, 'rooms_per_hhold'),\n",
       " (0.04049699501208321, 'housing_median_age'),\n",
       " (0.017256133562576846, 'total_rooms'),\n",
       " (0.01658792747068659, 'population'),\n",
       " (0.016064125562314235, 'households'),\n",
       " (0.015735054377160614, 'total_bedrooms'),\n",
       " (0.013181453840987152, '<1H OCEAN'),\n",
       " (0.0038630706680684974, 'NEAR OCEAN'),\n",
       " (0.0028847618903813225, 'NEAR BAY'),\n",
       " (0.00016880972930559266, 'ISLAND')]"
      ]
     },
     "execution_count": 41,
     "metadata": {},
     "output_type": "execute_result"
    }
   ],
   "source": [
    "show_feature_importances(grid_search_book.best_estimator_)"
   ]
  },
  {
   "cell_type": "markdown",
   "metadata": {},
   "source": [
    "Much of the attributes seem not very important, especially the ocean proximities that are not \"<1H OCEAN\" so maybe\n",
    "we should drop them and retrain the model."
   ]
  },
  {
   "cell_type": "code",
   "execution_count": 71,
   "metadata": {},
   "outputs": [
    {
     "data": {
      "text/html": [
       "<div>\n",
       "<style scoped>\n",
       "    .dataframe tbody tr th:only-of-type {\n",
       "        vertical-align: middle;\n",
       "    }\n",
       "\n",
       "    .dataframe tbody tr th {\n",
       "        vertical-align: top;\n",
       "    }\n",
       "\n",
       "    .dataframe thead th {\n",
       "        text-align: right;\n",
       "    }\n",
       "</style>\n",
       "<table border=\"1\" class=\"dataframe\">\n",
       "  <thead>\n",
       "    <tr style=\"text-align: right;\">\n",
       "      <th></th>\n",
       "      <th>longitude</th>\n",
       "      <th>latitude</th>\n",
       "      <th>housing_median_age</th>\n",
       "      <th>total_rooms</th>\n",
       "      <th>total_bedrooms</th>\n",
       "      <th>population</th>\n",
       "      <th>households</th>\n",
       "      <th>median_income</th>\n",
       "      <th>rooms_per_hhold</th>\n",
       "      <th>pop_per_hhold</th>\n",
       "      <th>bedrooms_per_room</th>\n",
       "      <th>&lt;1H OCEAN</th>\n",
       "    </tr>\n",
       "  </thead>\n",
       "  <tbody>\n",
       "    <tr>\n",
       "      <th>0</th>\n",
       "      <td>1.272587</td>\n",
       "      <td>-1.372811</td>\n",
       "      <td>0.348490</td>\n",
       "      <td>0.222569</td>\n",
       "      <td>0.211228</td>\n",
       "      <td>0.768276</td>\n",
       "      <td>0.322906</td>\n",
       "      <td>-0.326196</td>\n",
       "      <td>-0.174916</td>\n",
       "      <td>0.051376</td>\n",
       "      <td>-0.211785</td>\n",
       "      <td>0.0</td>\n",
       "    </tr>\n",
       "    <tr>\n",
       "      <th>1</th>\n",
       "      <td>0.709162</td>\n",
       "      <td>-0.876696</td>\n",
       "      <td>1.618118</td>\n",
       "      <td>0.340293</td>\n",
       "      <td>0.593094</td>\n",
       "      <td>-0.098901</td>\n",
       "      <td>0.672027</td>\n",
       "      <td>-0.035843</td>\n",
       "      <td>-0.402835</td>\n",
       "      <td>-0.117362</td>\n",
       "      <td>0.342185</td>\n",
       "      <td>0.0</td>\n",
       "    </tr>\n",
       "    <tr>\n",
       "      <th>2</th>\n",
       "      <td>-0.447603</td>\n",
       "      <td>-0.460146</td>\n",
       "      <td>-1.952710</td>\n",
       "      <td>-0.342597</td>\n",
       "      <td>-0.495226</td>\n",
       "      <td>-0.449818</td>\n",
       "      <td>-0.430461</td>\n",
       "      <td>0.144701</td>\n",
       "      <td>0.088216</td>\n",
       "      <td>-0.032280</td>\n",
       "      <td>-0.661658</td>\n",
       "      <td>0.0</td>\n",
       "    </tr>\n",
       "    <tr>\n",
       "      <th>3</th>\n",
       "      <td>1.232698</td>\n",
       "      <td>-1.382172</td>\n",
       "      <td>0.586545</td>\n",
       "      <td>-0.561490</td>\n",
       "      <td>-0.409306</td>\n",
       "      <td>-0.007434</td>\n",
       "      <td>-0.380587</td>\n",
       "      <td>-1.017864</td>\n",
       "      <td>-0.600015</td>\n",
       "      <td>0.077507</td>\n",
       "      <td>0.783032</td>\n",
       "      <td>0.0</td>\n",
       "    </tr>\n",
       "    <tr>\n",
       "      <th>4</th>\n",
       "      <td>-0.108551</td>\n",
       "      <td>0.532084</td>\n",
       "      <td>1.142008</td>\n",
       "      <td>-0.119565</td>\n",
       "      <td>-0.256559</td>\n",
       "      <td>-0.485877</td>\n",
       "      <td>-0.314962</td>\n",
       "      <td>-0.171488</td>\n",
       "      <td>0.349007</td>\n",
       "      <td>-0.068832</td>\n",
       "      <td>-0.550364</td>\n",
       "      <td>0.0</td>\n",
       "    </tr>\n",
       "  </tbody>\n",
       "</table>\n",
       "</div>"
      ],
      "text/plain": [
       "   longitude  latitude  housing_median_age  total_rooms  total_bedrooms  \\\n",
       "0   1.272587 -1.372811            0.348490     0.222569        0.211228   \n",
       "1   0.709162 -0.876696            1.618118     0.340293        0.593094   \n",
       "2  -0.447603 -0.460146           -1.952710    -0.342597       -0.495226   \n",
       "3   1.232698 -1.382172            0.586545    -0.561490       -0.409306   \n",
       "4  -0.108551  0.532084            1.142008    -0.119565       -0.256559   \n",
       "\n",
       "   population  households  median_income  rooms_per_hhold  pop_per_hhold  \\\n",
       "0    0.768276    0.322906      -0.326196        -0.174916       0.051376   \n",
       "1   -0.098901    0.672027      -0.035843        -0.402835      -0.117362   \n",
       "2   -0.449818   -0.430461       0.144701         0.088216      -0.032280   \n",
       "3   -0.007434   -0.380587      -1.017864        -0.600015       0.077507   \n",
       "4   -0.485877   -0.314962      -0.171488         0.349007      -0.068832   \n",
       "\n",
       "   bedrooms_per_room  <1H OCEAN  \n",
       "0          -0.211785        0.0  \n",
       "1           0.342185        0.0  \n",
       "2          -0.661658        0.0  \n",
       "3           0.783032        0.0  \n",
       "4          -0.550364        0.0  "
      ]
     },
     "execution_count": 71,
     "metadata": {},
     "output_type": "execute_result"
    }
   ],
   "source": [
    "train_x_cleaned.columns = attributes\n",
    "\n",
    "train_x_dropped_proximity = train_x_cleaned.drop(['INLAND','ISLAND', 'NEAR BAY', 'NEAR OCEAN'], axis=1)\n",
    "train_x_dropped_proximity.head()"
   ]
  },
  {
   "cell_type": "markdown",
   "metadata": {},
   "source": [
    "<br>\n",
    "Lets train a model with our reduced data set.\n",
    "First we train our model with the parameter sets from the book.\n",
    "<br><br>\n"
   ]
  },
  {
   "cell_type": "code",
   "execution_count": 72,
   "metadata": {},
   "outputs": [
    {
     "name": "stdout",
     "output_type": "stream",
     "text": [
      "Best parameters for book parameters are {'max_features': 4, 'n_estimators': 30}\n"
     ]
    }
   ],
   "source": [
    "model_without_prox_book = GridSearchCV(RandomForestRegressor(), param_grid, cv=5,\n",
    "                           scoring='neg_mean_squared_error',\n",
    "                           return_train_score=True)\n",
    "model_without_prox_book.fit(train_x_dropped_proximity, train_y)\n",
    "print(f\"Best parameters for book parameters are {model_without_prox_book.best_params_}\")"
   ]
  },
  {
   "cell_type": "code",
   "execution_count": 73,
   "metadata": {},
   "outputs": [
    {
     "name": "stdout",
     "output_type": "stream",
     "text": [
      "MSE without prox. 6393.434305771989; the old MSE from the book 26257.07041964972\n"
     ]
    }
   ],
   "source": [
    "small_test_set_without_prox = train_x_dropped_proximity.iloc[:5]\n",
    "small_test_set_without_prox_y = train_y.iloc[:5]\n",
    "\n",
    "predictions = model_without_prox_book.best_estimator_.predict(small_test_set_without_prox)\n",
    "wihout_prox_mse = mean_squared_error(small_test_set_without_prox_y, predictions)\n",
    "\n",
    "print(f\"MSE without prox. {np.sqrt(wihout_prox_mse)}; the old MSE from the book {forest_book_mse}\")"
   ]
  },
  {
   "cell_type": "code",
   "execution_count": 81,
   "metadata": {},
   "outputs": [
    {
     "data": {
      "text/plain": [
       "[(0.35412675125067133, 'median_income'),\n",
       " (0.11910431755612963, 'pop_per_hhold'),\n",
       " (0.11274981716485535, 'bedrooms_per_room'),\n",
       " (0.09674738202615375, 'longitude'),\n",
       " (0.09471163241102505, 'latitude'),\n",
       " (0.06193509194149687, 'rooms_per_hhold'),\n",
       " (0.051620281691080336, 'housing_median_age'),\n",
       " (0.033999512138721835, '<1H OCEAN'),\n",
       " (0.019202889211031606, 'population'),\n",
       " (0.018949882097472982, 'total_bedrooms'),\n",
       " (0.0187842702196136, 'total_rooms'),\n",
       " (0.018068172291747713, 'households')]"
      ]
     },
     "execution_count": 81,
     "metadata": {},
     "output_type": "execute_result"
    }
   ],
   "source": [
    "extra_attribs = [\"rooms_per_hhold\", \"pop_per_hhold\", \"bedrooms_per_room\"]\n",
    "cat_encoder = pipeline.named_transformers_[\"cat\"]\n",
    "cat_one_hot_attribs = list(cat_encoder.categories_[0])\n",
    "attributes = num_attribs + extra_attribs + cat_one_hot_attribs\n",
    "feature_importances = model_without_prox_book.best_estimator_.feature_importances_\n",
    "sorted(zip(feature_importances, attributes), reverse=True)"
   ]
  },
  {
   "cell_type": "markdown",
   "metadata": {},
   "source": [
    "<br><br>\n",
    "Now lets try a more drastic approach and crank the parameters a little bit up.\n",
    "Most likely this will overfit the dataset completly.\n",
    "<br><br>"
   ]
  },
  {
   "cell_type": "code",
   "execution_count": 82,
   "metadata": {},
   "outputs": [
    {
     "name": "stdout",
     "output_type": "stream",
     "text": [
      "Best parameters for book parameters are {'max_features': 4, 'n_estimators': 70}\n"
     ]
    }
   ],
   "source": [
    "param_grid_without_prox = [\n",
    "    {'n_estimators': [3, 10, 30, 50, 70], 'max_features': [2, 4, 6, 8]},\n",
    "    {'bootstrap': [False], 'n_estimators': [3, 10], 'max_features': [2, 3, 4]}\n",
    "]\n",
    "\n",
    "model_without_prox = GridSearchCV(RandomForestRegressor(), param_grid_without_prox, cv=5,\n",
    "                           scoring='neg_mean_squared_error',\n",
    "                           return_train_score=True)\n",
    "model_without_prox.fit(train_x_dropped_proximity, train_y)\n",
    "print(f\"Best parameters for book parameters are {model_without_prox.best_params_}\")"
   ]
  },
  {
   "cell_type": "code",
   "execution_count": 83,
   "metadata": {},
   "outputs": [
    {
     "name": "stdout",
     "output_type": "stream",
     "text": [
      "MSE without prox. 9434.18252434697; the old MSE from the book 26257.07041964972\n"
     ]
    }
   ],
   "source": [
    "small_test_set_without_prox = train_x_dropped_proximity.iloc[:5]\n",
    "small_test_set_without_prox_y = train_y.iloc[:5]\n",
    "\n",
    "predictions = model_without_prox.best_estimator_.predict(small_test_set_without_prox)\n",
    "wihout_prox_mse = mean_squared_error(small_test_set_without_prox_y, predictions)\n",
    "\n",
    "print(f\"MSE without prox. {np.sqrt(wihout_prox_mse)}; the old MSE from the book {forest_book_mse}\")"
   ]
  },
  {
   "cell_type": "markdown",
   "metadata": {},
   "source": [
    "<br>\n",
    "As we can see the MSE gets better with less attributes to train on.<br>\n",
    "We need to test which version is better because the model with 70 estimators could\n",
    "have maybe overfit the data already. \n",
    "<br><br>\n"
   ]
  },
  {
   "cell_type": "code",
   "execution_count": 84,
   "metadata": {},
   "outputs": [
    {
     "name": "stdout",
     "output_type": "stream",
     "text": [
      "OneHotEncoder()\n",
      "['<1H OCEAN', 'INLAND', 'ISLAND', 'NEAR BAY', 'NEAR OCEAN']\n"
     ]
    },
    {
     "data": {
      "text/plain": [
       "[(0.35831377521151336, 'median_income'),\n",
       " (0.11735825429651185, 'pop_per_hhold'),\n",
       " (0.10111153757995187, 'bedrooms_per_room'),\n",
       " (0.09803543918010282, 'longitude'),\n",
       " (0.09285761835170143, 'latitude'),\n",
       " (0.06470672106723767, 'rooms_per_hhold'),\n",
       " (0.051677255337835126, 'housing_median_age'),\n",
       " (0.03882407275260944, '<1H OCEAN'),\n",
       " (0.020075038980419214, 'population'),\n",
       " (0.019891908015836682, 'total_rooms'),\n",
       " (0.01868442405596546, 'total_bedrooms'),\n",
       " (0.018463955170315204, 'households')]"
      ]
     },
     "execution_count": 84,
     "metadata": {},
     "output_type": "execute_result"
    }
   ],
   "source": [
    "show_feature_importances(model_without_prox.best_estimator_)"
   ]
  },
  {
   "cell_type": "markdown",
   "metadata": {},
   "source": [
    "<br>\n",
    "We can even go a step further and just try to predict the price only with the\n",
    "\"median_income\", \"pop_per_hhold\" and \"bedrooms_per_room\" attributes because these are the strongest attributes \n",
    "<br><br>"
   ]
  },
  {
   "cell_type": "code",
   "execution_count": 86,
   "metadata": {},
   "outputs": [
    {
     "data": {
      "text/html": [
       "<div>\n",
       "<style scoped>\n",
       "    .dataframe tbody tr th:only-of-type {\n",
       "        vertical-align: middle;\n",
       "    }\n",
       "\n",
       "    .dataframe tbody tr th {\n",
       "        vertical-align: top;\n",
       "    }\n",
       "\n",
       "    .dataframe thead th {\n",
       "        text-align: right;\n",
       "    }\n",
       "</style>\n",
       "<table border=\"1\" class=\"dataframe\">\n",
       "  <thead>\n",
       "    <tr style=\"text-align: right;\">\n",
       "      <th></th>\n",
       "      <th>median_income</th>\n",
       "      <th>pop_per_hhold</th>\n",
       "      <th>bedrooms_per_room</th>\n",
       "    </tr>\n",
       "  </thead>\n",
       "  <tbody>\n",
       "    <tr>\n",
       "      <th>0</th>\n",
       "      <td>-0.326196</td>\n",
       "      <td>0.051376</td>\n",
       "      <td>-0.211785</td>\n",
       "    </tr>\n",
       "    <tr>\n",
       "      <th>1</th>\n",
       "      <td>-0.035843</td>\n",
       "      <td>-0.117362</td>\n",
       "      <td>0.342185</td>\n",
       "    </tr>\n",
       "    <tr>\n",
       "      <th>2</th>\n",
       "      <td>0.144701</td>\n",
       "      <td>-0.032280</td>\n",
       "      <td>-0.661658</td>\n",
       "    </tr>\n",
       "    <tr>\n",
       "      <th>3</th>\n",
       "      <td>-1.017864</td>\n",
       "      <td>0.077507</td>\n",
       "      <td>0.783032</td>\n",
       "    </tr>\n",
       "    <tr>\n",
       "      <th>4</th>\n",
       "      <td>-0.171488</td>\n",
       "      <td>-0.068832</td>\n",
       "      <td>-0.550364</td>\n",
       "    </tr>\n",
       "  </tbody>\n",
       "</table>\n",
       "</div>"
      ],
      "text/plain": [
       "   median_income  pop_per_hhold  bedrooms_per_room\n",
       "0      -0.326196       0.051376          -0.211785\n",
       "1      -0.035843      -0.117362           0.342185\n",
       "2       0.144701      -0.032280          -0.661658\n",
       "3      -1.017864       0.077507           0.783032\n",
       "4      -0.171488      -0.068832          -0.550364"
      ]
     },
     "execution_count": 86,
     "metadata": {},
     "output_type": "execute_result"
    }
   ],
   "source": [
    "hardcore_set = train_x_cleaned.drop(['INLAND','ISLAND', 'NEAR BAY', 'NEAR OCEAN', \n",
    "                                     'longitude', 'latitude', 'rooms_per_hhold',\n",
    "                                     'housing_median_age', '<1H OCEAN', 'population',\n",
    "                                     'total_rooms', 'total_bedrooms', 'households'\n",
    "                                    ], axis=1)\n",
    "hardcore_set.head()"
   ]
  },
  {
   "cell_type": "code",
   "execution_count": 89,
   "metadata": {},
   "outputs": [
    {
     "name": "stdout",
     "output_type": "stream",
     "text": [
      "Best parameters for book parameters are {'max_features': 1, 'n_estimators': 70}\n"
     ]
    }
   ],
   "source": [
    "param_grid_hardcore = [\n",
    "    {'n_estimators': [3, 10, 30, 50, 70], 'max_features': [1,2,3]},\n",
    "    {'bootstrap': [False], 'n_estimators': [3, 10], 'max_features': [1,2,3]}\n",
    "]\n",
    "\n",
    "hardcore_model = GridSearchCV(RandomForestRegressor(), param_grid_hardcore, cv=5,\n",
    "                           scoring='neg_mean_squared_error',\n",
    "                           return_train_score=True)\n",
    "hardcore_model.fit(hardcore_set, train_y)\n",
    "print(f\"Best parameters for book parameters are {hardcore_model.best_params_}\")"
   ]
  },
  {
   "cell_type": "code",
   "execution_count": 90,
   "metadata": {},
   "outputs": [
    {
     "name": "stdout",
     "output_type": "stream",
     "text": [
      "MSE without prox. 27028.27153459194; the old MSE from the book 26257.07041964972\n"
     ]
    }
   ],
   "source": [
    "small_hardcore_x = hardcore_set.iloc[:5]\n",
    "small_hardcore_y = train_y.iloc[:5]\n",
    "\n",
    "predictions = hardcore_model.best_estimator_.predict(small_hardcore_x)\n",
    "hardcore_mse = mean_squared_error(small_hardcore_y, predictions)\n",
    "\n",
    "print(f\"MSE without prox. {np.sqrt(hardcore_mse)}; the old MSE from the book {forest_book_mse}\")"
   ]
  },
  {
   "cell_type": "code",
   "execution_count": 93,
   "metadata": {},
   "outputs": [
    {
     "data": {
      "text/plain": [
       "[(0.5184901642154873, 'longitude'),\n",
       " (0.254331342555332, 'housing_median_age'),\n",
       " (0.22717849322918066, 'latitude')]"
      ]
     },
     "execution_count": 93,
     "metadata": {},
     "output_type": "execute_result"
    }
   ],
   "source": [
    "show_feature_importances(hardcore_model.best_estimator_)"
   ]
  },
  {
   "cell_type": "markdown",
   "metadata": {},
   "source": [
    "<br>\n",
    "Seems like we don't have enough attributes to corretly predict the prices.\n",
    "\n",
    "<br><br>"
   ]
  },
  {
   "cell_type": "markdown",
   "metadata": {},
   "source": [
    "# SVM regressor\n",
    "\n",
    "Instead of using a random forest we try to use a SVM regressor. <br>\n",
    "\n",
    "We take our dataset with the '<1H OCEAN' included because this data set did\n",
    "the best job.\n"
   ]
  },
  {
   "cell_type": "code",
   "execution_count": 96,
   "metadata": {},
   "outputs": [],
   "source": [
    "dataset = {\n",
    "    \"train\": train_x_dropped_proximity,\n",
    "    \"labels\": train_y,\n",
    "    \"val\": small_test_set_without_prox,\n",
    "    \"val_labels\": small_test_set_without_prox_y\n",
    "}"
   ]
  },
  {
   "cell_type": "code",
   "execution_count": 97,
   "metadata": {},
   "outputs": [
    {
     "data": {
      "text/html": [
       "<div>\n",
       "<style scoped>\n",
       "    .dataframe tbody tr th:only-of-type {\n",
       "        vertical-align: middle;\n",
       "    }\n",
       "\n",
       "    .dataframe tbody tr th {\n",
       "        vertical-align: top;\n",
       "    }\n",
       "\n",
       "    .dataframe thead th {\n",
       "        text-align: right;\n",
       "    }\n",
       "</style>\n",
       "<table border=\"1\" class=\"dataframe\">\n",
       "  <thead>\n",
       "    <tr style=\"text-align: right;\">\n",
       "      <th></th>\n",
       "      <th>longitude</th>\n",
       "      <th>latitude</th>\n",
       "      <th>housing_median_age</th>\n",
       "      <th>total_rooms</th>\n",
       "      <th>total_bedrooms</th>\n",
       "      <th>population</th>\n",
       "      <th>households</th>\n",
       "      <th>median_income</th>\n",
       "      <th>rooms_per_hhold</th>\n",
       "      <th>pop_per_hhold</th>\n",
       "      <th>bedrooms_per_room</th>\n",
       "      <th>&lt;1H OCEAN</th>\n",
       "    </tr>\n",
       "  </thead>\n",
       "  <tbody>\n",
       "    <tr>\n",
       "      <th>0</th>\n",
       "      <td>1.272587</td>\n",
       "      <td>-1.372811</td>\n",
       "      <td>0.348490</td>\n",
       "      <td>0.222569</td>\n",
       "      <td>0.211228</td>\n",
       "      <td>0.768276</td>\n",
       "      <td>0.322906</td>\n",
       "      <td>-0.326196</td>\n",
       "      <td>-0.174916</td>\n",
       "      <td>0.051376</td>\n",
       "      <td>-0.211785</td>\n",
       "      <td>0.0</td>\n",
       "    </tr>\n",
       "    <tr>\n",
       "      <th>1</th>\n",
       "      <td>0.709162</td>\n",
       "      <td>-0.876696</td>\n",
       "      <td>1.618118</td>\n",
       "      <td>0.340293</td>\n",
       "      <td>0.593094</td>\n",
       "      <td>-0.098901</td>\n",
       "      <td>0.672027</td>\n",
       "      <td>-0.035843</td>\n",
       "      <td>-0.402835</td>\n",
       "      <td>-0.117362</td>\n",
       "      <td>0.342185</td>\n",
       "      <td>0.0</td>\n",
       "    </tr>\n",
       "    <tr>\n",
       "      <th>2</th>\n",
       "      <td>-0.447603</td>\n",
       "      <td>-0.460146</td>\n",
       "      <td>-1.952710</td>\n",
       "      <td>-0.342597</td>\n",
       "      <td>-0.495226</td>\n",
       "      <td>-0.449818</td>\n",
       "      <td>-0.430461</td>\n",
       "      <td>0.144701</td>\n",
       "      <td>0.088216</td>\n",
       "      <td>-0.032280</td>\n",
       "      <td>-0.661658</td>\n",
       "      <td>0.0</td>\n",
       "    </tr>\n",
       "    <tr>\n",
       "      <th>3</th>\n",
       "      <td>1.232698</td>\n",
       "      <td>-1.382172</td>\n",
       "      <td>0.586545</td>\n",
       "      <td>-0.561490</td>\n",
       "      <td>-0.409306</td>\n",
       "      <td>-0.007434</td>\n",
       "      <td>-0.380587</td>\n",
       "      <td>-1.017864</td>\n",
       "      <td>-0.600015</td>\n",
       "      <td>0.077507</td>\n",
       "      <td>0.783032</td>\n",
       "      <td>0.0</td>\n",
       "    </tr>\n",
       "    <tr>\n",
       "      <th>4</th>\n",
       "      <td>-0.108551</td>\n",
       "      <td>0.532084</td>\n",
       "      <td>1.142008</td>\n",
       "      <td>-0.119565</td>\n",
       "      <td>-0.256559</td>\n",
       "      <td>-0.485877</td>\n",
       "      <td>-0.314962</td>\n",
       "      <td>-0.171488</td>\n",
       "      <td>0.349007</td>\n",
       "      <td>-0.068832</td>\n",
       "      <td>-0.550364</td>\n",
       "      <td>0.0</td>\n",
       "    </tr>\n",
       "    <tr>\n",
       "      <th>...</th>\n",
       "      <td>...</td>\n",
       "      <td>...</td>\n",
       "      <td>...</td>\n",
       "      <td>...</td>\n",
       "      <td>...</td>\n",
       "      <td>...</td>\n",
       "      <td>...</td>\n",
       "      <td>...</td>\n",
       "      <td>...</td>\n",
       "      <td>...</td>\n",
       "      <td>...</td>\n",
       "      <td>...</td>\n",
       "    </tr>\n",
       "    <tr>\n",
       "      <th>16507</th>\n",
       "      <td>0.808883</td>\n",
       "      <td>-0.872016</td>\n",
       "      <td>0.507194</td>\n",
       "      <td>-0.603337</td>\n",
       "      <td>-0.805492</td>\n",
       "      <td>-0.675847</td>\n",
       "      <td>-0.742833</td>\n",
       "      <td>1.307215</td>\n",
       "      <td>0.290620</td>\n",
       "      <td>-0.005588</td>\n",
       "      <td>-1.064430</td>\n",
       "      <td>1.0</td>\n",
       "    </tr>\n",
       "    <tr>\n",
       "      <th>16508</th>\n",
       "      <td>1.073144</td>\n",
       "      <td>-0.759688</td>\n",
       "      <td>0.348490</td>\n",
       "      <td>0.203255</td>\n",
       "      <td>0.075188</td>\n",
       "      <td>0.287195</td>\n",
       "      <td>-0.133839</td>\n",
       "      <td>-0.436266</td>\n",
       "      <td>0.600411</td>\n",
       "      <td>0.069722</td>\n",
       "      <td>-0.483382</td>\n",
       "      <td>0.0</td>\n",
       "    </tr>\n",
       "    <tr>\n",
       "      <th>16509</th>\n",
       "      <td>0.599469</td>\n",
       "      <td>-0.755007</td>\n",
       "      <td>0.586545</td>\n",
       "      <td>-0.248786</td>\n",
       "      <td>0.072801</td>\n",
       "      <td>0.289833</td>\n",
       "      <td>0.070909</td>\n",
       "      <td>-0.496973</td>\n",
       "      <td>-0.606759</td>\n",
       "      <td>0.020306</td>\n",
       "      <td>0.999514</td>\n",
       "      <td>1.0</td>\n",
       "    </tr>\n",
       "    <tr>\n",
       "      <th>16510</th>\n",
       "      <td>-1.185540</td>\n",
       "      <td>0.906510</td>\n",
       "      <td>-1.079841</td>\n",
       "      <td>0.429046</td>\n",
       "      <td>0.139628</td>\n",
       "      <td>0.308303</td>\n",
       "      <td>0.154908</td>\n",
       "      <td>0.965450</td>\n",
       "      <td>0.402175</td>\n",
       "      <td>0.007076</td>\n",
       "      <td>-0.790862</td>\n",
       "      <td>1.0</td>\n",
       "    </tr>\n",
       "    <tr>\n",
       "      <th>16511</th>\n",
       "      <td>-1.414898</td>\n",
       "      <td>0.995437</td>\n",
       "      <td>1.856173</td>\n",
       "      <td>0.728414</td>\n",
       "      <td>1.853254</td>\n",
       "      <td>1.048834</td>\n",
       "      <td>1.947764</td>\n",
       "      <td>-0.685448</td>\n",
       "      <td>-0.851446</td>\n",
       "      <td>-0.085354</td>\n",
       "      <td>1.695203</td>\n",
       "      <td>0.0</td>\n",
       "    </tr>\n",
       "  </tbody>\n",
       "</table>\n",
       "<p>16512 rows × 12 columns</p>\n",
       "</div>"
      ],
      "text/plain": [
       "       longitude  latitude  housing_median_age  total_rooms  total_bedrooms  \\\n",
       "0       1.272587 -1.372811            0.348490     0.222569        0.211228   \n",
       "1       0.709162 -0.876696            1.618118     0.340293        0.593094   \n",
       "2      -0.447603 -0.460146           -1.952710    -0.342597       -0.495226   \n",
       "3       1.232698 -1.382172            0.586545    -0.561490       -0.409306   \n",
       "4      -0.108551  0.532084            1.142008    -0.119565       -0.256559   \n",
       "...          ...       ...                 ...          ...             ...   \n",
       "16507   0.808883 -0.872016            0.507194    -0.603337       -0.805492   \n",
       "16508   1.073144 -0.759688            0.348490     0.203255        0.075188   \n",
       "16509   0.599469 -0.755007            0.586545    -0.248786        0.072801   \n",
       "16510  -1.185540  0.906510           -1.079841     0.429046        0.139628   \n",
       "16511  -1.414898  0.995437            1.856173     0.728414        1.853254   \n",
       "\n",
       "       population  households  median_income  rooms_per_hhold  pop_per_hhold  \\\n",
       "0        0.768276    0.322906      -0.326196        -0.174916       0.051376   \n",
       "1       -0.098901    0.672027      -0.035843        -0.402835      -0.117362   \n",
       "2       -0.449818   -0.430461       0.144701         0.088216      -0.032280   \n",
       "3       -0.007434   -0.380587      -1.017864        -0.600015       0.077507   \n",
       "4       -0.485877   -0.314962      -0.171488         0.349007      -0.068832   \n",
       "...           ...         ...            ...              ...            ...   \n",
       "16507   -0.675847   -0.742833       1.307215         0.290620      -0.005588   \n",
       "16508    0.287195   -0.133839      -0.436266         0.600411       0.069722   \n",
       "16509    0.289833    0.070909      -0.496973        -0.606759       0.020306   \n",
       "16510    0.308303    0.154908       0.965450         0.402175       0.007076   \n",
       "16511    1.048834    1.947764      -0.685448        -0.851446      -0.085354   \n",
       "\n",
       "       bedrooms_per_room  <1H OCEAN  \n",
       "0              -0.211785        0.0  \n",
       "1               0.342185        0.0  \n",
       "2              -0.661658        0.0  \n",
       "3               0.783032        0.0  \n",
       "4              -0.550364        0.0  \n",
       "...                  ...        ...  \n",
       "16507          -1.064430        1.0  \n",
       "16508          -0.483382        0.0  \n",
       "16509           0.999514        1.0  \n",
       "16510          -0.790862        1.0  \n",
       "16511           1.695203        0.0  \n",
       "\n",
       "[16512 rows x 12 columns]"
      ]
     },
     "execution_count": 97,
     "metadata": {},
     "output_type": "execute_result"
    }
   ],
   "source": [
    "dataset[\"train\"]"
   ]
  },
  {
   "cell_type": "code",
   "execution_count": null,
   "metadata": {},
   "outputs": [],
   "source": [
    "from sklearn.svm import SVR\n",
    "\n",
    "param_grid_svr = [\n",
    "    {'kernel': ['linear'], 'C':[0.1, 0.5, 1.0, 1.5], 'epsilon':[0.1, 0.2, 0.05]},\n",
    "    {'kernel': ['poly', 'rbf'], 'degree': [1, 2, 3, 4, 5, 6, 7, 8, 9, 10], 'gamma':['scale', 'auto'], 'C':[0.1, 0.5, 1.0, 1.5], 'epsilon':[0.1, 0.2, 0.05]}\n",
    "]\n",
    "\n",
    "svr_search = GridSearchCV(SVR(), param_grid_svr, cv=5,\n",
    "                           scoring='neg_mean_squared_error',\n",
    "                           return_train_score=True)\n",
    "svr_search.fit(dataset[\"train\"], dataset[\"labels\"])\n",
    "print(f\"Best parameters for SVR are {svr_search.best_params_}\")"
   ]
  },
  {
   "cell_type": "code",
   "execution_count": null,
   "metadata": {},
   "outputs": [],
   "source": [
    "predictions_svr = svr_search.best_estimator_.predict(dataset[\"val\"])\n",
    "svr_mse = mean_squared_error(dataset[\"val_labels\"], predictions_svr)\n",
    "\n",
    "print(f\"MSE without prox. {np.sqrt(svr_mse)}; the MSE of the random forest {np.sqrt(wihout_prox_mse)}\")"
   ]
  }
 ],
 "metadata": {
  "kernelspec": {
   "display_name": "Python 3",
   "language": "python",
   "name": "python3"
  },
  "language_info": {
   "codemirror_mode": {
    "name": "ipython",
    "version": 3
   },
   "file_extension": ".py",
   "mimetype": "text/x-python",
   "name": "python",
   "nbconvert_exporter": "python",
   "pygments_lexer": "ipython3",
   "version": "3.8.5"
  }
 },
 "nbformat": 4,
 "nbformat_minor": 4
}
