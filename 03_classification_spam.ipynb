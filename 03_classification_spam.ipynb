{
 "cells": [
  {
   "cell_type": "markdown",
   "metadata": {},
   "source": [
    "# Spam classification"
   ]
  },
  {
   "cell_type": "markdown",
   "metadata": {},
   "source": [
    "# 1. Get the data"
   ]
  },
  {
   "cell_type": "code",
   "execution_count": 4,
   "metadata": {},
   "outputs": [],
   "source": [
    "DOWNLOAD_ROOT = 'https://spamassassin.apache.org/old/publiccorpus/'\n",
    "SPAM_NAMES = ['20030228_spam.tar.bz2', '20030228_spam_2.tar.bz2', '20050311_spam_2.tar.bz2', '20021010_spam.tar.bz2']\n",
    "HAM_NAMES = ['20021010_easy_ham.tar.bz2', '20021010_hard_ham.tar.bz2', '20030228_easy_ham.tar.bz2', '20030228_easy_ham.tar.bz2']\n",
    "DATA_PATH = os.path.join('datasets', 'spam')"
   ]
  },
  {
   "cell_type": "code",
   "execution_count": 3,
   "metadata": {},
   "outputs": [],
   "source": [
    "import os\n",
    "import tarfile\n",
    "import urllib\n",
    "\n",
    "def fetch_spam_data():\n",
    "    os.makedirs(DATA_PATH, exist_ok=True)\n",
    "    for spam_file in SPAM_NAMES:\n",
    "        spam_path = os.path.join(DATA_PATH, spam_file)\n",
    "        spam_url = os.path.join(DOWNLOAD_ROOT, spam_file)\n",
    "        urllib.request.urlretrieve(spam_url, spam_path)\n",
    "        tgz = tarfile.open(spam_path)\n",
    "        tgz.extractall(path=os.path.join(DATA_PATH, 'spam'))\n",
    "        tgz.close()\n",
    "    for ham_file in HAM_NAMES:\n",
    "        ham_path = os.path.join(DATA_PATH, ham_file)\n",
    "        ham_url = os.path.join(DOWNLOAD_ROOT, ham_file)\n",
    "        urllib.request.urlretrieve(ham_url, ham_path)\n",
    "        tgz = tarfile.open(ham_path)\n",
    "        tgz.extractall(path=os.path.join(DATA_PATH, 'ham'))\n",
    "        tgz.close()"
   ]
  },
  {
   "cell_type": "code",
   "execution_count": 6,
   "metadata": {},
   "outputs": [],
   "source": [
    "fetch_spam_data()"
   ]
  },
  {
   "cell_type": "markdown",
   "metadata": {},
   "source": [
    "# 2. Creating a pandas dataframe"
   ]
  },
  {
   "cell_type": "code",
   "execution_count": 37,
   "metadata": {},
   "outputs": [],
   "source": [
    "import pandas as pd\n",
    "import numpy as np\n",
    "import glob\n",
    "\n",
    "def label_data(path, label):\n",
    "    data = []\n",
    "    for filename in glob.iglob(os.path.join(path, '**/**'), recursive=True):\n",
    "        if not os.path.isdir(filename):\n",
    "            # some strange file sometimes occuring\n",
    "            if not filename[-4:] == 'cmds':\n",
    "                data.append([filename, label])\n",
    "    return data"
   ]
  },
  {
   "cell_type": "code",
   "execution_count": 39,
   "metadata": {},
   "outputs": [],
   "source": [
    "spamdata = label_data(os.path.join(DATA_PATH, 'spam'), label=1)\n",
    "hamdata = label_data(os.path.join(DATA_PATH, 'ham'), label=0)"
   ]
  },
  {
   "cell_type": "code",
   "execution_count": 40,
   "metadata": {},
   "outputs": [],
   "source": [
    "dataset = pd.DataFrame(data=[*spamdata, *hamdata], columns=['Filepath', 'Cat'])"
   ]
  },
  {
   "cell_type": "code",
   "execution_count": 41,
   "metadata": {},
   "outputs": [
    {
     "data": {
      "text/html": [
       "<div>\n",
       "<style scoped>\n",
       "    .dataframe tbody tr th:only-of-type {\n",
       "        vertical-align: middle;\n",
       "    }\n",
       "\n",
       "    .dataframe tbody tr th {\n",
       "        vertical-align: top;\n",
       "    }\n",
       "\n",
       "    .dataframe thead th {\n",
       "        text-align: right;\n",
       "    }\n",
       "</style>\n",
       "<table border=\"1\" class=\"dataframe\">\n",
       "  <thead>\n",
       "    <tr style=\"text-align: right;\">\n",
       "      <th></th>\n",
       "      <th>Filepath</th>\n",
       "      <th>Cat</th>\n",
       "    </tr>\n",
       "  </thead>\n",
       "  <tbody>\n",
       "    <tr>\n",
       "      <th>0</th>\n",
       "      <td>datasets\\spam\\spam\\spam\\0000.7b1b73cf36cf9dbc3...</td>\n",
       "      <td>1</td>\n",
       "    </tr>\n",
       "    <tr>\n",
       "      <th>1</th>\n",
       "      <td>datasets\\spam\\spam\\spam\\00001.7848dde101aa9850...</td>\n",
       "      <td>1</td>\n",
       "    </tr>\n",
       "    <tr>\n",
       "      <th>2</th>\n",
       "      <td>datasets\\spam\\spam\\spam\\00002.d94f1b97e48ed3b5...</td>\n",
       "      <td>1</td>\n",
       "    </tr>\n",
       "    <tr>\n",
       "      <th>3</th>\n",
       "      <td>datasets\\spam\\spam\\spam\\00003.2ee33bc6eacdb11f...</td>\n",
       "      <td>1</td>\n",
       "    </tr>\n",
       "    <tr>\n",
       "      <th>4</th>\n",
       "      <td>datasets\\spam\\spam\\spam\\00004.eac8de8d759b7e74...</td>\n",
       "      <td>1</td>\n",
       "    </tr>\n",
       "  </tbody>\n",
       "</table>\n",
       "</div>"
      ],
      "text/plain": [
       "                                            Filepath  Cat\n",
       "0  datasets\\spam\\spam\\spam\\0000.7b1b73cf36cf9dbc3...    1\n",
       "1  datasets\\spam\\spam\\spam\\00001.7848dde101aa9850...    1\n",
       "2  datasets\\spam\\spam\\spam\\00002.d94f1b97e48ed3b5...    1\n",
       "3  datasets\\spam\\spam\\spam\\00003.2ee33bc6eacdb11f...    1\n",
       "4  datasets\\spam\\spam\\spam\\00004.eac8de8d759b7e74...    1"
      ]
     },
     "execution_count": 41,
     "metadata": {},
     "output_type": "execute_result"
    }
   ],
   "source": [
    "dataset.head()"
   ]
  },
  {
   "cell_type": "markdown",
   "metadata": {},
   "source": [
    "<br> Let's save the file as csv to restore it in the future. <br><br>"
   ]
  },
  {
   "cell_type": "code",
   "execution_count": 42,
   "metadata": {},
   "outputs": [],
   "source": [
    "dataset.to_csv(os.path.join(DATA_PATH, 'dataset.csv'), index=False)"
   ]
  },
  {
   "cell_type": "markdown",
   "metadata": {},
   "source": [
    "# 3. Create train/test split"
   ]
  },
  {
   "cell_type": "code",
   "execution_count": 5,
   "metadata": {},
   "outputs": [
    {
     "data": {
      "text/html": [
       "<div>\n",
       "<style scoped>\n",
       "    .dataframe tbody tr th:only-of-type {\n",
       "        vertical-align: middle;\n",
       "    }\n",
       "\n",
       "    .dataframe tbody tr th {\n",
       "        vertical-align: top;\n",
       "    }\n",
       "\n",
       "    .dataframe thead th {\n",
       "        text-align: right;\n",
       "    }\n",
       "</style>\n",
       "<table border=\"1\" class=\"dataframe\">\n",
       "  <thead>\n",
       "    <tr style=\"text-align: right;\">\n",
       "      <th></th>\n",
       "      <th>Filepath</th>\n",
       "      <th>Cat</th>\n",
       "    </tr>\n",
       "  </thead>\n",
       "  <tbody>\n",
       "    <tr>\n",
       "      <th>0</th>\n",
       "      <td>datasets\\spam\\spam\\spam\\0000.7b1b73cf36cf9dbc3...</td>\n",
       "      <td>1</td>\n",
       "    </tr>\n",
       "    <tr>\n",
       "      <th>1</th>\n",
       "      <td>datasets\\spam\\spam\\spam\\00001.7848dde101aa9850...</td>\n",
       "      <td>1</td>\n",
       "    </tr>\n",
       "    <tr>\n",
       "      <th>2</th>\n",
       "      <td>datasets\\spam\\spam\\spam\\00002.d94f1b97e48ed3b5...</td>\n",
       "      <td>1</td>\n",
       "    </tr>\n",
       "    <tr>\n",
       "      <th>3</th>\n",
       "      <td>datasets\\spam\\spam\\spam\\00003.2ee33bc6eacdb11f...</td>\n",
       "      <td>1</td>\n",
       "    </tr>\n",
       "    <tr>\n",
       "      <th>4</th>\n",
       "      <td>datasets\\spam\\spam\\spam\\00004.eac8de8d759b7e74...</td>\n",
       "      <td>1</td>\n",
       "    </tr>\n",
       "  </tbody>\n",
       "</table>\n",
       "</div>"
      ],
      "text/plain": [
       "                                            Filepath  Cat\n",
       "0  datasets\\spam\\spam\\spam\\0000.7b1b73cf36cf9dbc3...    1\n",
       "1  datasets\\spam\\spam\\spam\\00001.7848dde101aa9850...    1\n",
       "2  datasets\\spam\\spam\\spam\\00002.d94f1b97e48ed3b5...    1\n",
       "3  datasets\\spam\\spam\\spam\\00003.2ee33bc6eacdb11f...    1\n",
       "4  datasets\\spam\\spam\\spam\\00004.eac8de8d759b7e74...    1"
      ]
     },
     "execution_count": 5,
     "metadata": {},
     "output_type": "execute_result"
    }
   ],
   "source": [
    "import pandas as pd\n",
    "import os\n",
    "\n",
    "dataset = pd.read_csv(os.path.join(DATA_PATH, 'dataset.csv'))\n",
    "dataset.head()"
   ]
  },
  {
   "cell_type": "code",
   "execution_count": 6,
   "metadata": {},
   "outputs": [],
   "source": [
    "from sklearn.model_selection import train_test_split\n",
    "\n",
    "y = dataset[\"Cat\"].copy()\n",
    "X = dataset.drop(\"Cat\", axis=1)\n",
    "X_train, X_test, y_train, y_test = train_test_split(X, y, test_size=0.2, random_state=42)"
   ]
  },
  {
   "cell_type": "code",
   "execution_count": 7,
   "metadata": {},
   "outputs": [
    {
     "data": {
      "text/html": [
       "<div>\n",
       "<style scoped>\n",
       "    .dataframe tbody tr th:only-of-type {\n",
       "        vertical-align: middle;\n",
       "    }\n",
       "\n",
       "    .dataframe tbody tr th {\n",
       "        vertical-align: top;\n",
       "    }\n",
       "\n",
       "    .dataframe thead th {\n",
       "        text-align: right;\n",
       "    }\n",
       "</style>\n",
       "<table border=\"1\" class=\"dataframe\">\n",
       "  <thead>\n",
       "    <tr style=\"text-align: right;\">\n",
       "      <th></th>\n",
       "      <th>Filepath</th>\n",
       "    </tr>\n",
       "  </thead>\n",
       "  <tbody>\n",
       "    <tr>\n",
       "      <th>424</th>\n",
       "      <td>datasets\\spam\\spam\\spam\\00386.6074f269f0bd1aec...</td>\n",
       "    </tr>\n",
       "    <tr>\n",
       "      <th>554</th>\n",
       "      <td>datasets\\spam\\spam\\spam\\0054.839a9c0a07f137185...</td>\n",
       "    </tr>\n",
       "    <tr>\n",
       "      <th>2992</th>\n",
       "      <td>datasets\\spam\\spam\\spam\\0094.3ba780eac7dce1c2b...</td>\n",
       "    </tr>\n",
       "    <tr>\n",
       "      <th>1954</th>\n",
       "      <td>datasets\\spam\\spam\\spam_2\\00957.ffe295aaf7f975...</td>\n",
       "    </tr>\n",
       "    <tr>\n",
       "      <th>13884</th>\n",
       "      <td>datasets\\spam\\ham\\easy_ham\\1288.9235f568fa35fd...</td>\n",
       "    </tr>\n",
       "    <tr>\n",
       "      <th>...</th>\n",
       "      <td>...</td>\n",
       "    </tr>\n",
       "    <tr>\n",
       "      <th>5191</th>\n",
       "      <td>datasets\\spam\\ham\\easy_ham\\00360.5e45677c7b7a6...</td>\n",
       "    </tr>\n",
       "    <tr>\n",
       "      <th>13418</th>\n",
       "      <td>datasets\\spam\\ham\\easy_ham\\0822.3ebf2e0f82aa01...</td>\n",
       "    </tr>\n",
       "    <tr>\n",
       "      <th>5390</th>\n",
       "      <td>datasets\\spam\\ham\\easy_ham\\00541.cbdcefd1a6109...</td>\n",
       "    </tr>\n",
       "    <tr>\n",
       "      <th>860</th>\n",
       "      <td>datasets\\spam\\spam\\spam\\0360.5f5fc66c831d84570...</td>\n",
       "    </tr>\n",
       "    <tr>\n",
       "      <th>7270</th>\n",
       "      <td>datasets\\spam\\ham\\easy_ham\\02250.f947b89c1c14a...</td>\n",
       "    </tr>\n",
       "  </tbody>\n",
       "</table>\n",
       "<p>12318 rows × 1 columns</p>\n",
       "</div>"
      ],
      "text/plain": [
       "                                                Filepath\n",
       "424    datasets\\spam\\spam\\spam\\00386.6074f269f0bd1aec...\n",
       "554    datasets\\spam\\spam\\spam\\0054.839a9c0a07f137185...\n",
       "2992   datasets\\spam\\spam\\spam\\0094.3ba780eac7dce1c2b...\n",
       "1954   datasets\\spam\\spam\\spam_2\\00957.ffe295aaf7f975...\n",
       "13884  datasets\\spam\\ham\\easy_ham\\1288.9235f568fa35fd...\n",
       "...                                                  ...\n",
       "5191   datasets\\spam\\ham\\easy_ham\\00360.5e45677c7b7a6...\n",
       "13418  datasets\\spam\\ham\\easy_ham\\0822.3ebf2e0f82aa01...\n",
       "5390   datasets\\spam\\ham\\easy_ham\\00541.cbdcefd1a6109...\n",
       "860    datasets\\spam\\spam\\spam\\0360.5f5fc66c831d84570...\n",
       "7270   datasets\\spam\\ham\\easy_ham\\02250.f947b89c1c14a...\n",
       "\n",
       "[12318 rows x 1 columns]"
      ]
     },
     "execution_count": 7,
     "metadata": {},
     "output_type": "execute_result"
    }
   ],
   "source": [
    "X_train"
   ]
  },
  {
   "cell_type": "code",
   "execution_count": 8,
   "metadata": {},
   "outputs": [
    {
     "data": {
      "text/plain": [
       "424      1\n",
       "554      1\n",
       "2992     1\n",
       "1954     1\n",
       "13884    0\n",
       "        ..\n",
       "5191     0\n",
       "13418    0\n",
       "5390     0\n",
       "860      1\n",
       "7270     0\n",
       "Name: Cat, Length: 12318, dtype: int64"
      ]
     },
     "execution_count": 8,
     "metadata": {},
     "output_type": "execute_result"
    }
   ],
   "source": [
    "y_train"
   ]
  },
  {
   "cell_type": "markdown",
   "metadata": {},
   "source": [
    "# 4. Data exploration\n",
    "## 4.1 Spam/Ham ratio"
   ]
  },
  {
   "cell_type": "code",
   "execution_count": 9,
   "metadata": {},
   "outputs": [],
   "source": [
    "exploration_set = pd.concat([X_train, y_train], axis=1)"
   ]
  },
  {
   "cell_type": "code",
   "execution_count": 10,
   "metadata": {},
   "outputs": [
    {
     "data": {
      "text/html": [
       "<div>\n",
       "<style scoped>\n",
       "    .dataframe tbody tr th:only-of-type {\n",
       "        vertical-align: middle;\n",
       "    }\n",
       "\n",
       "    .dataframe tbody tr th {\n",
       "        vertical-align: top;\n",
       "    }\n",
       "\n",
       "    .dataframe thead th {\n",
       "        text-align: right;\n",
       "    }\n",
       "</style>\n",
       "<table border=\"1\" class=\"dataframe\">\n",
       "  <thead>\n",
       "    <tr style=\"text-align: right;\">\n",
       "      <th></th>\n",
       "      <th>Filepath</th>\n",
       "      <th>Cat</th>\n",
       "    </tr>\n",
       "  </thead>\n",
       "  <tbody>\n",
       "    <tr>\n",
       "      <th>424</th>\n",
       "      <td>datasets\\spam\\spam\\spam\\00386.6074f269f0bd1aec...</td>\n",
       "      <td>1</td>\n",
       "    </tr>\n",
       "    <tr>\n",
       "      <th>554</th>\n",
       "      <td>datasets\\spam\\spam\\spam\\0054.839a9c0a07f137185...</td>\n",
       "      <td>1</td>\n",
       "    </tr>\n",
       "    <tr>\n",
       "      <th>2992</th>\n",
       "      <td>datasets\\spam\\spam\\spam\\0094.3ba780eac7dce1c2b...</td>\n",
       "      <td>1</td>\n",
       "    </tr>\n",
       "    <tr>\n",
       "      <th>1954</th>\n",
       "      <td>datasets\\spam\\spam\\spam_2\\00957.ffe295aaf7f975...</td>\n",
       "      <td>1</td>\n",
       "    </tr>\n",
       "    <tr>\n",
       "      <th>13884</th>\n",
       "      <td>datasets\\spam\\ham\\easy_ham\\1288.9235f568fa35fd...</td>\n",
       "      <td>0</td>\n",
       "    </tr>\n",
       "  </tbody>\n",
       "</table>\n",
       "</div>"
      ],
      "text/plain": [
       "                                                Filepath  Cat\n",
       "424    datasets\\spam\\spam\\spam\\00386.6074f269f0bd1aec...    1\n",
       "554    datasets\\spam\\spam\\spam\\0054.839a9c0a07f137185...    1\n",
       "2992   datasets\\spam\\spam\\spam\\0094.3ba780eac7dce1c2b...    1\n",
       "1954   datasets\\spam\\spam\\spam_2\\00957.ffe295aaf7f975...    1\n",
       "13884  datasets\\spam\\ham\\easy_ham\\1288.9235f568fa35fd...    0"
      ]
     },
     "execution_count": 10,
     "metadata": {},
     "output_type": "execute_result"
    }
   ],
   "source": [
    "exploration_set.head()"
   ]
  },
  {
   "cell_type": "code",
   "execution_count": 11,
   "metadata": {},
   "outputs": [
    {
     "name": "stdout",
     "output_type": "stream",
     "text": [
      "<class 'pandas.core.frame.DataFrame'>\n",
      "Int64Index: 12318 entries, 424 to 7270\n",
      "Data columns (total 2 columns):\n",
      " #   Column    Non-Null Count  Dtype \n",
      "---  ------    --------------  ----- \n",
      " 0   Filepath  12318 non-null  object\n",
      " 1   Cat       12318 non-null  int64 \n",
      "dtypes: int64(1), object(1)\n",
      "memory usage: 288.7+ KB\n"
     ]
    }
   ],
   "source": [
    "exploration_set.info()"
   ]
  },
  {
   "cell_type": "code",
   "execution_count": 12,
   "metadata": {},
   "outputs": [
    {
     "data": {
      "text/html": [
       "<div>\n",
       "<style scoped>\n",
       "    .dataframe tbody tr th:only-of-type {\n",
       "        vertical-align: middle;\n",
       "    }\n",
       "\n",
       "    .dataframe tbody tr th {\n",
       "        vertical-align: top;\n",
       "    }\n",
       "\n",
       "    .dataframe thead th {\n",
       "        text-align: right;\n",
       "    }\n",
       "</style>\n",
       "<table border=\"1\" class=\"dataframe\">\n",
       "  <thead>\n",
       "    <tr style=\"text-align: right;\">\n",
       "      <th></th>\n",
       "      <th>Cat</th>\n",
       "    </tr>\n",
       "  </thead>\n",
       "  <tbody>\n",
       "    <tr>\n",
       "      <th>count</th>\n",
       "      <td>12318.000000</td>\n",
       "    </tr>\n",
       "    <tr>\n",
       "      <th>mean</th>\n",
       "      <td>0.309547</td>\n",
       "    </tr>\n",
       "    <tr>\n",
       "      <th>std</th>\n",
       "      <td>0.462326</td>\n",
       "    </tr>\n",
       "    <tr>\n",
       "      <th>min</th>\n",
       "      <td>0.000000</td>\n",
       "    </tr>\n",
       "    <tr>\n",
       "      <th>25%</th>\n",
       "      <td>0.000000</td>\n",
       "    </tr>\n",
       "    <tr>\n",
       "      <th>50%</th>\n",
       "      <td>0.000000</td>\n",
       "    </tr>\n",
       "    <tr>\n",
       "      <th>75%</th>\n",
       "      <td>1.000000</td>\n",
       "    </tr>\n",
       "    <tr>\n",
       "      <th>max</th>\n",
       "      <td>1.000000</td>\n",
       "    </tr>\n",
       "  </tbody>\n",
       "</table>\n",
       "</div>"
      ],
      "text/plain": [
       "                Cat\n",
       "count  12318.000000\n",
       "mean       0.309547\n",
       "std        0.462326\n",
       "min        0.000000\n",
       "25%        0.000000\n",
       "50%        0.000000\n",
       "75%        1.000000\n",
       "max        1.000000"
      ]
     },
     "execution_count": 12,
     "metadata": {},
     "output_type": "execute_result"
    }
   ],
   "source": [
    "exploration_set.describe()"
   ]
  },
  {
   "cell_type": "code",
   "execution_count": 13,
   "metadata": {},
   "outputs": [
    {
     "data": {
      "text/plain": [
       "<AxesSubplot:>"
      ]
     },
     "execution_count": 13,
     "metadata": {},
     "output_type": "execute_result"
    },
    {
     "data": {
      "image/png": "[encoded data removed]",
      "text/plain": [
       "<Figure size 432x288 with 1 Axes>"
      ]
     },
     "metadata": {
      "needs_background": "light"
     },
     "output_type": "display_data"
    }
   ],
   "source": [
    "exploration_set['Cat'].value_counts().plot(kind='bar')"
   ]
  },
  {
   "cell_type": "code",
   "execution_count": 15,
   "metadata": {},
   "outputs": [
    {
     "name": "stdout",
     "output_type": "stream",
     "text": [
      "Spam percentage 0.30954700438382854\n"
     ]
    }
   ],
   "source": [
    "import numpy as np\n",
    "\n",
    "counts = exploration_set['Cat'].value_counts()\n",
    "percentage = counts[1] / np.sum(counts)\n",
    "print(f'Spam percentage {percentage}')"
   ]
  },
  {
   "cell_type": "markdown",
   "metadata": {},
   "source": [
    "<br> From the [README file](https://spamassassin.apache.org/old/publiccorpus/readme.html) we can get that the percentage of spam is 31%, so our split got that right <br><br>"
   ]
  },
  {
   "cell_type": "markdown",
   "metadata": {},
   "source": [
    "## 4.2 Email parsing\n",
    "<br> Let's parse one email and see what we got <br><br>"
   ]
  },
  {
   "cell_type": "code",
   "execution_count": 50,
   "metadata": {},
   "outputs": [],
   "source": [
    "import email\n",
    "\n",
    "file_object = open(exploration_set.iloc[0]['Filepath'], 'rb')\n",
    "msg = email.parser.BytesParser().parse(file_object)"
   ]
  },
  {
   "cell_type": "code",
   "execution_count": 51,
   "metadata": {},
   "outputs": [
    {
     "name": "stdout",
     "output_type": "stream",
     "text": [
      "Message is \n",
      ": Return-Path: <sunday68@bluemail.dk>\n",
      "Delivered-To: zzzz@localhost.spamassassin.taint.org\n",
      "Received: from localhost (jalapeno [127.0.0.1])\n",
      "\tby zzzzason.org (Postfix) with ESMTP id 8FD3716F03\n",
      "\tfor <zzzz@localhost>; Fri, 20 Sep 2002 11:41:21 +0100 (IST)\n",
      "Received: from jalapeno [127.0.0.1]\n",
      "\tby localhost with IMAP (fetchmail-5.9.0)\n",
      "\tfor zzzz@localhost (single-drop); Fri, 20 Sep 2002 11:41:21 +0100 (IST)\n",
      "Received: from webnote.net (mail.webnote.net [193.120.211.219]) by\n",
      "    dogma.slashnull.org (8.11.6/8.11.6) with ESMTP id g8K3lHC19280 for\n",
      "    <zzzz@jmason.org>; Fri, 20 Sep 2002 04:47:17 +0100\n",
      "Received: from bluemail.dk (host230-95.pool21756.interbusiness.it\n",
      "    [217.56.95.230]) by webnote.net (8.9.3/8.9.3) with SMTP id EAA04124;\n",
      "    Fri, 20 Sep 2002 04:47:45 +0100\n",
      "Date: Fri, 20 Sep 2002 04:47:45 +0100\n",
      "From: sunday68@bluemail.dk\n",
      "Reply-To: <sunday68@bluemail.dk>\n",
      "Message-Id: <004e01e10eca$6576b5b2$0dd22cc2@qtnqof>\n",
      "To: paulifree@hotmail.com\n",
      "Subject: FORTUNE 500 WORK AT HOME REPS NEEDED!\n",
      "MIME-Version: 1.0\n",
      "Content-Type: text/plain; charset=\"iso-8859-1\"\n",
      "X-Priority: 3 (Normal)\n",
      "X-Msmail-Priority: Normal\n",
      "X-Mailer: MIME-tools 5.503 (Entity 5.501)\n",
      "Importance: Normal\n",
      "Content-Transfer-Encoding: 8bit\n",
      "\n",
      "Immediate Help Needed.  We are a fortune 500 company that is \n",
      "growing at a tremendous rate of over 1000% per year. We simply cannot \n",
      "keep up. We are looking for motivated individuals who are looking to \n",
      "earn a substantial income working from home. \n",
      "\n",
      "This is a real opportunity to make an excellent income from home. No \n",
      "experience is required.  We will provide you with any training you may need. \n",
      "\n",
      "We are looking for energetic and self motivated people.  If that is you \n",
      "than click on the link below and complete our online information request \n",
      "form, \n",
      "and one of our employment specialist will contact you. \n",
      "\n",
      "http://ter.netblah.com:27000\n",
      "\n",
      "So if you are looking to be employed at home, with a career that will \n",
      "provide you vast opportunities and a substantial income, please fill \n",
      "out our online information request form here now: \n",
      "\n",
      "http://ter.netblah.com:27000\n",
      "\n",
      "\n",
      "To be removed from our list simply click on the link below now: \n",
      "\n",
      "http://ter.netblah.com:27000\n",
      "\n",
      "1631Pl5\n",
      "\n",
      "\n",
      " \n",
      "\n",
      " This message is spam\n"
     ]
    }
   ],
   "source": [
    "print(f\"Message is \\n: {msg.as_string()} \\n\\n This message is {'spam' if exploration_set.iloc[0]['Cat'] == 1 else 'ham'}\")"
   ]
  },
  {
   "cell_type": "code",
   "execution_count": 52,
   "metadata": {},
   "outputs": [
    {
     "name": "stdout",
     "output_type": "stream",
     "text": [
      "Message is \n",
      ": Return-Path: <rssfeeds@spamassassin.taint.org>\n",
      "Delivered-To: yyyy@localhost.spamassassin.taint.org\n",
      "Received: from localhost (jalapeno [127.0.0.1])\n",
      "\tby jmason.org (Postfix) with ESMTP id AAC2316F20\n",
      "\tfor <jm@localhost>; Thu,  3 Oct 2002 12:23:19 +0100 (IST)\n",
      "Received: from jalapeno [127.0.0.1]\n",
      "\tby localhost with IMAP (fetchmail-5.9.0)\n",
      "\tfor jm@localhost (single-drop); Thu, 03 Oct 2002 12:23:19 +0100 (IST)\n",
      "Received: from dogma.slashnull.org (localhost [127.0.0.1]) by\n",
      "    dogma.slashnull.org (8.11.6/8.11.6) with ESMTP id g9381uK20003 for\n",
      "    <jm@jmason.org>; Thu, 3 Oct 2002 09:01:56 +0100\n",
      "Message-Id: <200210030801.g9381uK20003@dogma.slashnull.org>\n",
      "To: yyyy@spamassassin.taint.org\n",
      "From: gamasutra <rssfeeds@spamassassin.taint.org>\n",
      "Subject: Shader Integration: Merging Shading Technologies on the Nintendo\n",
      "    Gamecube\n",
      "Date: Thu, 03 Oct 2002 08:01:56 -0000\n",
      "Content-Type: text/plain; encoding=utf-8\n",
      "\n",
      "URL: http://www.newsisfree.com/click/-4,8494551,159/\n",
      "Date: 2002-10-03T05:50:07+01:00\n",
      "\n",
      "Rendering polygons is not as easy as it used to be, the reason being the vast \n",
      "amount of different rendering techniques, methods and algorithms available. Not \n",
      "only is choosing the right ones a problem, even worse, all that are selected \n",
      "need to work together. There are some algorithms which simply do not work \n",
      "together, and in that case, only one may be used whilt the other one needs to \n",
      "be replaced witha more compatible method. This feature explores how Factor 5 \n",
      "approached the problem when developing Rogue Leader for Gamecube.\n",
      "\n",
      "\n",
      " \n",
      "\n",
      " This message is ham\n"
     ]
    }
   ],
   "source": [
    "file_object = open(exploration_set.iloc[5]['Filepath'], 'r')\n",
    "msg_two = email.message_from_file(file_object)\n",
    "print(f\"Message is \\n: {msg_two.as_string()} \\n\\n This message is {'spam' if exploration_set.iloc[5]['Cat'] == 1 else 'ham'}\")"
   ]
  },
  {
   "cell_type": "markdown",
   "metadata": {},
   "source": [
    "<br><br> Let's test some other functions of the Message object <br> Print the subject of an email: <br><br>"
   ]
  },
  {
   "cell_type": "code",
   "execution_count": 53,
   "metadata": {},
   "outputs": [
    {
     "name": "stdout",
     "output_type": "stream",
     "text": [
      "Subject of email is: FORTUNE 500 WORK AT HOME REPS NEEDED!\n"
     ]
    }
   ],
   "source": [
    "print(f\"Subject of email is: {msg.get('subject')}\")"
   ]
  },
  {
   "cell_type": "code",
   "execution_count": 58,
   "metadata": {},
   "outputs": [
    {
     "name": "stdout",
     "output_type": "stream",
     "text": [
      "Body of email is: \n",
      "Immediate Help Needed.  We are a fortune 500 company that is \n",
      "growing at a tremendous rate of over 1000% per year. We simply cannot \n",
      "keep up. We are looking for motivated individuals who are looking to \n",
      "earn a substantial income working from home. \n",
      "\n",
      "This is a real opportunity to make an excellent income from home. No \n",
      "experience is required.  We will provide you with any training you may need. \n",
      "\n",
      "We are looking for energetic and self motivated people.  If that is you \n",
      "than click on the link below and complete our online information request \n",
      "form, \n",
      "and one of our employment specialist will contact you. \n",
      "\n",
      "http://ter.netblah.com:27000\n",
      "\n",
      "So if you are looking to be employed at home, with a career that will \n",
      "provide you vast opportunities and a substantial income, please fill \n",
      "out our online information request form here now: \n",
      "\n",
      "http://ter.netblah.com:27000\n",
      "\n",
      "\n",
      "To be removed from our list simply click on the link below now: \n",
      "\n",
      "http://ter.netblah.com:27000\n",
      "\n",
      "1631Pl5\n",
      "\n",
      "\n",
      "\n"
     ]
    }
   ],
   "source": [
    "print(f\"Body of email is: \\n{msg.get_payload()}\")"
   ]
  },
  {
   "cell_type": "markdown",
   "metadata": {},
   "source": [
    "## 4.3 Transforming into a Vector"
   ]
  },
  {
   "cell_type": "code",
   "execution_count": 61,
   "metadata": {},
   "outputs": [
    {
     "name": "stderr",
     "output_type": "stream",
     "text": [
      "[nltk_data] Downloading package punkt to\n",
      "[nltk_data]     C:\\Users\\Daniel\\AppData\\Roaming\\nltk_data...\n",
      "[nltk_data]   Unzipping tokenizers\\punkt.zip.\n"
     ]
    },
    {
     "name": "stdout",
     "output_type": "stream",
     "text": [
      "['FORTUNE', '500', 'WORK', 'AT', 'HOME', 'REPS', 'NEEDED', '!']\n"
     ]
    }
   ],
   "source": [
    "import nltk\n",
    "nltk.download('punkt')\n",
    "\n",
    "tokens = nltk.word_tokenize(msg.get('subject'))\n",
    "print(tokens)"
   ]
  },
  {
   "cell_type": "code",
   "execution_count": null,
   "metadata": {},
   "outputs": [],
   "source": []
  }
 ],
 "metadata": {
  "kernelspec": {
   "display_name": "Python 3",
   "language": "python",
   "name": "python3"
  },
  "language_info": {
   "codemirror_mode": {
    "name": "ipython",
    "version": 3
   },
   "file_extension": ".py",
   "mimetype": "text/x-python",
   "name": "python",
   "nbconvert_exporter": "python",
   "pygments_lexer": "ipython3",
   "version": "3.8.5"
  }
 },
 "nbformat": 4,
 "nbformat_minor": 4
}
